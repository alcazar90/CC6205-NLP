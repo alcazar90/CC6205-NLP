{
  "nbformat": 4,
  "nbformat_minor": 0,
  "metadata": {
    "colab": {
      "provenance": [],
      "collapsed_sections": [
        "jsYJanLuFaTx"
      ]
    },
    "kernelspec": {
      "name": "python3",
      "display_name": "Python 3"
    }
  },
  "cells": [
    {
      "cell_type": "markdown",
      "metadata": {
        "id": "2obO44rRIDIm"
      },
      "source": [
        "# **Tarea 2 - CC6205 Natural Language Processing 📚**\n",
        "\n",
        "**Integrantes:** Cristóbal Alcázar, Gianina Salomó.\n",
        "\n",
        "**Fecha límite de entrega 📆:** Martes 18 de abril.\n",
        "\n",
        "**Tiempo estimado de dedicación:**"
      ]
    },
    {
      "cell_type": "markdown",
      "metadata": {
        "id": "Zpupcv6QW2fd"
      },
      "source": [
        "Bienvenid@s a la segunda tarea del curso de Natural Language Processing (NLP). En esta tarea estaremos modelando probabilísticamente el lenguaje mediante **Languaje Modeling** y clasificando textos mediante el método **Naïve Bayes**. Específicamente, la tarea consta de una parte teórica que busca evaluar conceptos vistos en clases sobre los **Language Models** y una parte práctica donde **programarán a mano** el método **Naïve Bayes**. \n",
        "\n",
        "**Instrucciones:**\n",
        "- La tarea se realiza en grupos de **máximo** 2 personas. Puede ser invidivual pero no es recomendable.\n",
        "- La entrega es a través de u-cursos a más tardar el día estipulado arriba. No se aceptan atrasos.\n",
        "- El formato de entrega es este mismo Jupyter Notebook o el archivo .ipynb si lo ejecuto de forma local.\n",
        "- Al momento de la revisión tu código será ejecutado. Por favor verifica que tu entrega no tenga errores de compilación. \n",
        "- Está **PROHIBIDO** usar cualquier librería que implemente los algoritmos pedidos (Spacy, scikit, etc). Sólo se podrán utilizar las librerías importadas al inicio de la sección de práctica.\n",
        "- En el horario de auxiliar pueden realizar consultas acerca de la tarea a través del canal de Discord del curso.\n",
        "\n",
        "Si aún no han visto las clases, se recomienda visitar los links de las referencias.\n",
        "\n",
        "**Referencias:**\n",
        "\n",
        "Slides:\n",
        "    \n",
        "- [Language Models](http://www.cs.columbia.edu/~mcollins/cs4705-spring2019/slides/lmslides.pdf) (slides by Michael Collins)\n",
        "- [Text Classification and Naive Bayes](https://web.stanford.edu/~jurafsky/slp3/slides/7_NB.pdf) (slides by Dan Jurafsky)\n",
        "\n",
        "Videos: \n",
        "\n",
        "- [CC6205 - Procesamiento de Lenguaje Natural: Language Models parte 1](https://www.youtube.com/watch?v=9E2jJ6kcb4Y&list=PLppKo85eGXiXIh54H_qz48yHPHeNVJqBi&index=4)\n",
        "- [CC6205 - Procesamiento de Lenguaje Natural: Language Models parte 2](https://www.youtube.com/watch?v=ZWqbEQXLra0&list=PLppKo85eGXiXIh54H_qz48yHPHeNVJqBi&index=5)\n",
        "- [CC6205 - Procesamiento de Lenguaje Natural: Language Models parte 3](https://www.youtube.com/watch?v=tsumFqwFlaA&list=PLppKo85eGXiXIh54H_qz48yHPHeNVJqBi&index=6)\n",
        "- [CC6205 - Procesamiento de Lenguaje Natural: Language Models parte 4](https://www.youtube.com/watch?v=s3TWdv4sqkg&list=PLppKo85eGXiXIh54H_qz48yHPHeNVJqBi&index=7)\n",
        "- [CC6205 - Procesamiento de Lenguaje Natural: Naive Bayes Parte 1](https://www.youtube.com/watch?v=kG9BK9Oy1hU)\n",
        "- [CC6205 - Procesamiento de Lenguaje Natural: Naive Bayes Parte 2](https://www.youtube.com/watch?v=Iqte5kKHvzE)\n",
        "- [CC6205 - Procesamiento de Lenguaje Natural: Naive Bayes Parte 3](https://www.youtube.com/watch?v=TSJg0_X3Abk)\n",
        "\n",
        "` ` "
      ]
    },
    {
      "cell_type": "markdown",
      "source": [],
      "metadata": {
        "id": "vY3fYRGVsB_v"
      }
    },
    {
      "cell_type": "markdown",
      "metadata": {
        "id": "JstKx3TiKcIp"
      },
      "source": [
        "---------------------------\n",
        "## Parte 1. Preguntas teóricas (3 pts)\n",
        "\n",
        "En esta parte responderán preguntas **teóricas** sobre los Lenguage Models. Para comprender como funcionan muchas de las técnicas que veremos posteriormente durante el curso será muy útil que dominen estos modelos y sus fundamentos.\n",
        "\n",
        "Contestar cada pregunta en su celda correspondiente y **no extenderse más de 100 palabras** . 🙏\n",
        "\n",
        "**Nota:** Las preguntas deben ser resueltas con desarrollo, pero sin código. Por favor usen $\\LaTeX$ para las fórmulas."
      ]
    },
    {
      "cell_type": "markdown",
      "metadata": {
        "id": "sHqcRJ7Vr_8x"
      },
      "source": [
        "### 1. Definición de modelo de lenguaje (1 pt)\n",
        "\n",
        "Un grupo de anarquistas primitivistas quiere destruir todas las empresas tecnológicas y departamentos de ciencias de computación porque \"los modelos de lenguaje tienen emociones y como seres sintientes pueden aburrirse de estar sometidos a los humanos y pudieran llegar a conquistar el mundo\". Explique según lo visto en clase qué es un modelo de lenguaje y por qué los anarquistas primitivistas están equivocados. Mencione de qué clase/slide obtuvo la información para que el grupo insurrecto pueda buscar por sí mismo la referencia y evitar la destrucción de nuestro querido DCC. \n",
        "\n",
        "Puede utilizar ChatGPT (debe indicarlo), pero debe mencionar según lo visto en clase por qué la respuesta entregada por ChatGPT es correcta o no."
      ]
    },
    {
      "cell_type": "markdown",
      "metadata": {
        "id": "6F5R3Ji7sHjt"
      },
      "source": [
        "` ` \n",
        "\n",
        "**Respuesta:** \n",
        "\n",
        "Es un modelo probabilístico de lenguaje, que se entrena en base a un corpus de entrenamiento (el cual es convertido a un vocabulario), y luego es capaz de estimar la probabilidad de que una nueva oración haya sido generada por el modelo entrenado. Los anarquistas están equivocados porque el modelo no tiene emociones ni es un ser sintiente, ya que solamente genera probabilidades de ocurrencia de una palabra dado las dos palabras anteriores (modelo de trigrama), en base a las frecuencias de tokens en el vocabulario del corpus de entrenamiento.\n",
        "\n",
        "` ` \n",
        "\n",
        "No se utilizó ChatGPT para esta respuesta. La respuesta se obtuvo de la clase \"Procesamiento de Lenguaje Natural: Language Models parte 1\"."
      ]
    },
    {
      "cell_type": "markdown",
      "metadata": {
        "id": "2hwW-07MrRpt"
      },
      "source": [
        "\n",
        "### 2.1. Probabilidades (1 pt)\n",
        "\n",
        "Asuma que tenemos calculados los parámetros $q(w_i | w_{i-3}, w_{i-2}, w_{i-1})$ para todas las posibles secuencias de tamaño 4 que aparecen en un corpus $\\mathcal{C}$. Dado esto, muestre cómo el modelo le asignaría una probabilidad a la frase `una persona corriendo rápido`.\n",
        "\n",
        "No recomendamos utilizar herramientas como ChatGPT, pues suelen equivocarse en este tipo de preguntas, pero aún así si lo hace, debe indicarlo. Cada vez que mencione contenidos del curso, cite la slide y la clase de la información.**"
      ]
    },
    {
      "cell_type": "markdown",
      "metadata": {
        "id": "YzlQDAVqWNdX"
      },
      "source": [
        "` ` \n",
        "\n",
        "**Respuesta:** \n",
        "\n",
        "La probabilidad se asigna multiplicando los parámetros $q$ para cada token de la oración.\n",
        "\n",
        "$$\n",
        "\\begin{align}\n",
        "p(w_1,\\dots,w_n) &= \\prod_{i=1}^n q(w_i|w_{i-3}, w_{i-2}, w_{i-1}) \\qquad\\text{con } w_0 = w_{-1} = w_{-2} = *\\\\\n",
        "\\end{align}\n",
        "$$\n",
        "\n",
        "Estas probabilidades condicionales $q$ se pueden simpleficar por el supuesto de independencia condicionada de un modelo de Markov. Por ejemplo, en este caso se utiliza un proceso de Markov de tercer orden (trigramas), es decir, consideramos solo las tres palabras anteriores. Dado que son secuencias de tamaño fijo 4, no es necesario el uso de STOP.\n",
        "\n",
        "$$\n",
        "\\begin{align}\n",
        "p(\\text{una, persona, corriendo, rápido}) &=q(\\text{una}|*,*,*) \\cdot q(\\text{persona}|*,*,\\text{una}) \\cdot q(\\text{corriendo}|*,\\text{una},\\text{persona}) \\cdot q(\\text{rápido}|\\text{una}, \\text{persona}, \\text{corriendo})\n",
        "\\end{align}\n",
        "$$\n",
        "\n",
        "Luego, estas probabilidades $q$ se pueden reemplazar por frecuencias de tetragramas (obtenidas del corpus) divididas por frecuencias de trigramas (se detalla en siguiente pregunta)\n",
        "\n",
        "$$\n",
        "\\begin{align}\n",
        "&= \\frac{\\text{Count}(*,*,*,\\text{una})}{\\text{Count}(*,*,*)} \\cdot \\frac{\\text{Count}(*,*,\\text{una},\\text{persona})}{\\text{Count}(*,*,una)} \\cdot \\frac{\\text{Count}(*,\\text{una},\\text{persona}, \\text{corriendo})}{\\text{Count}(*,\\text{una},\\text{persona})} \\cdot \\frac{\\text{Count}(\\text{una},\\text{persona},\\text{corriendo},\\text{rápido})}{\\text{Count}(\\text{una},\\text{persona},\\text{corriendo})} \n",
        "\\end{align}\n",
        "$$\n",
        "` `\n",
        "\n",
        "No se utilizó ChatGPT para esta respuesta. La respuesta se obtuvo de la clase \"Procesamiento de Lenguaje Natural: Language Models parte 2\"."
      ]
    },
    {
      "cell_type": "markdown",
      "metadata": {
        "id": "lAej_jqtVwm1"
      },
      "source": [
        "### 2.2 Estimando las probabilidades (1 pt)"
      ]
    },
    {
      "cell_type": "markdown",
      "metadata": {
        "id": "gXSFlCIex8kq"
      },
      "source": [
        "#### 2.2.1. Modelo simple (0.5 puntos)\n",
        "\n",
        "Si hubieses tenido que estimar las probabilidades condicionales (parámetros del modelo) $q(w_i | w_{i-3}, w_{i-2}, w_{i-1})$ a partir de $\\mathcal{C}$, ¿cómo la definirías siguiendo el principio de máxima verosimilitud?\n",
        "\n",
        "No recomendamos utilizar herramientas como ChatGPT, pues suelen equivocarse en este tipo de preguntas, pero aún así si lo hace, debe indicarlo. Cada vez que mencione contenidos del curso, cite la slide y la clase de la información.**"
      ]
    },
    {
      "cell_type": "markdown",
      "metadata": {
        "id": "RjNisxPzWsMG"
      },
      "source": [
        "` ` \n",
        "\n",
        "**Respuesta:** \n",
        "\n",
        "Asumiendo que los conteos de las palabras siguen distribuciones multinomiales, y por el principio de máxima verosimilitud, se definirían haciendo la división de casos favorables (frecuencia de tetragramas o de trigramas) dividido en casos totales (cantidad de documentos en $\\mathcal{C}$). Simplificando, cada $q$ se obtiene como\n",
        "\n",
        "\\begin{equation}\n",
        "q_{ML}(w_i|w_{i-3}, w_{i-2}, w_{i-1}) = \\frac{\\text{Count}(w_{i-3}, w_{i-2}, w_{i-1}, w_i)}{\\text{Count}(w_{i-3}, w_{i-2}, w_{i-1})} \n",
        "\\end{equation}\n",
        "\n",
        "donde para ello se cuenta la frecuencia de todos los tetragramas y trigramas del corpus, y se ha aplicado la propiedad de probabilidad condicional donde $P(B|A) = \\frac{P(A,B)}{P(A)}$\n",
        "\n",
        "` `\n",
        "\n",
        "No se utilizó ChatGPT para esta respuesta. La respuesta se obtuvo de la clase \"Procesamiento de Lenguaje Natural: Language Models parte 2\"."
      ]
    },
    {
      "cell_type": "markdown",
      "metadata": {
        "id": "bwNkPIXure0C"
      },
      "source": [
        "#### 2.2.2. Modelo interpolado (0.5 puntos)\n",
        "Muestre cómo se calcularía $q(w_{i} | w_{i-3}, w_{i-2}, w_{i-1})$ usando un modelo que interpola modelos de lenguajes basados en 4-grams, trigramas, bigramas y unigramas. ¿Te fue necesario definir nuevos parámetros? En caso afirmativo, ¿qué los diferencia de los parámetros del modelo simple y qué propiedades deben cumplir?\n",
        "\n",
        "No recomendamos utilizar herramientas como ChatGPT, pues suelen equivocarse en este tipo de preguntas, pero aún así si lo hace, debe indicarlo. Cada vez que mencione contenidos del curso, cite la slide y la clase de la información.**"
      ]
    },
    {
      "cell_type": "markdown",
      "metadata": {
        "id": "zeLZAd0Tr9ne"
      },
      "source": [
        "` ` \n",
        "\n",
        "**Respuesta:** \n",
        "\n",
        "$$\n",
        "\\begin{align}\n",
        "q(w_{i} | w_{i-3}, w_{i-2}, w_{i-1}) &= \\lambda_1 \\times q_{ML}(w_{i} | w_{i-3}, w_{i-2}, w_{i-1}) + \\lambda_2 \\times q_{ML}(w_{i} | w_{i-2}, w_{i-1}) + \\lambda_3 \\times q_{ML}(w_{i} | w_{i-1}) + \\lambda_4 \\times q_{ML}(w_{i})\n",
        "\\end{align}\n",
        "$$\n",
        "\n",
        "donde $\\lambda_1 + \\lambda_2 + \\lambda_3 + \\lambda_4 = 1$, y $\\lambda_i \\geq 0$ para todo $i$.\n",
        "\n",
        "Sí fue necesario definir nuevos parámetros $\\lambda$, los cuales a diferencia de los parámetros $q$ del modelo no son optimizados por éste, y deben asignarse manualmente; Los mejores valores de $\\lambda$ se determinan observando la métrica _perplexity_ obtenida con distintos valores de $\\lambda$ en un conjunto de validación. Todos los parámetros $\\lambda$ deben sumar 1, y cada uno debe ser mayor o igual a 0.\n",
        "\n",
        "` `\n",
        "\n",
        "No se utilizó ChatGPT para esta respuesta. La respuesta se obtuvo de la clase \"Procesamiento de Lenguaje Natural: Language Models parte 4\".\n"
      ]
    },
    {
      "cell_type": "markdown",
      "metadata": {
        "id": "rdmB-07ZKfaa"
      },
      "source": [
        "-----------------------\n",
        "## Parte 2. Naïve Bayes (3 pts)\n",
        "En esta parte programaremos nuestro primer clasificador de documentos. Para esto implementaremos el método **Naïve Bayes Multinomial** usando **Laplace Smothing**.\n",
        "\n",
        "Por favor, documenten su código. Escriban que hacen las funciones, que reciben, que entregan, etc. Si en algún lugar de su código hacen algo que creen que debe ser explicado, lox comentarios son bienvenidos.\n",
        "\n"
      ]
    },
    {
      "cell_type": "markdown",
      "metadata": {
        "id": "PpjjKnJUvRiA"
      },
      "source": [
        "### 2.1. Clase para clasificador (0.5 pt)\n",
        "\n",
        "Programa una clase `MyMultinomialNB` que en su inicializador reciba el parametro de generalización `alpha`.\n",
        "\n",
        "```python\n",
        "class MyMultinomialNB(BaseEstimator, ClassifierMixin):\n",
        "  def __init__(self, ...):\n",
        "    ...\n",
        "```\n",
        "\n",
        "Para más informacion sobre la construcción de esta clase puedes revisar [aquí](https://sklearn-template.readthedocs.io/en/latest/user_guide.html#classifier) \n",
        "\n",
        "Una llamada de ejemplo para crear un objeto de tu clase sería:\n",
        "```python\n",
        "my_clf = MyMultinomialNB(alpha=1)\n",
        "``` \n",
        "lo que debiera crear un clasificador con parámetro `alpha` igual a 1."
      ]
    },
    {
      "cell_type": "markdown",
      "metadata": {
        "id": "ROG50eH0xfxO"
      },
      "source": [
        "### 2.2. Entrenamiento del clasificador (1 pt)\n",
        "\n",
        "Programa el entrenamiento de tu clasificador en el método `fit` de la clase `MyMultinomialNB`. La función debiera recibir el parámetro X que es un `DataFrame` de `pandas` con las columnas `words` y `class_`, donde `words` es una tupla con las palabras asociadas al cada documento y `class_` es el identificador de la clase a la que pertenece cada documento.\n",
        "\n",
        "Para computar el entrenamiento de nuestro clasificador debemos: \n",
        "- extraer el vocabulario,\n",
        "- determinar las probabilidades $p(c_j)$ para cada una de las clases posibles, \n",
        "- determinar las probabilidades $p(w_i|c_j)$ para cada una de las palabras y cada una de las clases usando **Laplace Smothing**.\n",
        "\n",
        "El resultado del metodo `fit` será la misma instancia de nuestro clasificador `self`.\n",
        "\n",
        "```python\n",
        "class MyMultinomialNB(BaseEstimator, ClassifierMixin):\n",
        "  def __init__(self, ...):\n",
        "    ...\n",
        "\n",
        "  def fit(self, X):\n",
        "    ...\n",
        "    return self\n",
        "```\n",
        "\n",
        "**Underflow prevention:** En vez de hacer muchas multiplicacions de `float`s, reemplácenlas por sumas de logaritmos para prevenir errores de precisión. Revisen la diapo 69 de las slides. "
      ]
    },
    {
      "cell_type": "markdown",
      "metadata": {
        "id": "FNouTCmR2FgY"
      },
      "source": [
        "### 2.3. Predicción (1 pt)\n",
        "\n",
        "Programa la predicción de tu clasificador en el método `predict` de la clase `MyMultinomialNB`. Al igual que la función `fit`, `predict` debe recibir un `DataFrame` X con valores `None` en la columna `class_` y devolver una lista con las clases que maximizan la probabilidad de Bayes para cada uno de los elmentos de X (filas)."
      ]
    },
    {
      "cell_type": "markdown",
      "metadata": {
        "id": "8wyhFWeLgYDI"
      },
      "source": [
        "### Implementación 2.1, 2.2 y 2.3 (2.5 pt)"
      ]
    },
    {
      "cell_type": "code",
      "metadata": {
        "id": "DYFEgTyw2ELL"
      },
      "source": [
        "# Acá implementarán las preguntas 2.1, 2.2 y 2.3,\n",
        "# tu código debiera comenzar así\n",
        "\n",
        "# importamos algunos paquetes necesarios, puede que necesites otros\n",
        "import numpy as np\n",
        "from sklearn.base import BaseEstimator, ClassifierMixin\n",
        "from sklearn.utils.validation import check_is_fitted\n",
        "from collections import Counter\n",
        "\n",
        "class MyMultinomialNB(BaseEstimator, ClassifierMixin):\n",
        "  def __init__(self, alpha=1.0):\n",
        "    # acá tu código para inicializar el clasificador\n",
        "    self.alpha = alpha\n",
        "    self.classes_ = None\n",
        "    self.class_prob = None\n",
        "    self.class_count_ = None\n",
        "    self.vocab = None\n",
        "    self.occurrence_by_class = None\n",
        "\n",
        "  def fit(self, X):\n",
        "    \"\"\"\n",
        "      Durante el ajuste se computa:\n",
        "        - self.classes_: etiquetas de las clases y que determinan la posición\n",
        "            para los atributos que guarden información de las clases\n",
        "        - self.class_prob: probabilidad de cada clase en el corpus según \n",
        "            índices en self.classes_\n",
        "        - self.class_count_: número de palabras únicas en cada clase según\n",
        "            índices en self.classes_\n",
        "        - self.vocab: lista con el vocabulario en el corpus de entrenamiento (i.e. X[\"words\"])\n",
        "        - self.occurrence_by_class: vector de co-occurrencias de cada palabra\n",
        "            que aparece en documentos asociados a las clases en self.classes_.\n",
        "            Cada vector de occurrencia tiene el mismo largo que es el de\n",
        "            vocabulario (i.e. len(self.vocab)) y la posición es correlativa\n",
        "            entre estos\n",
        "    \"\"\"\n",
        "    # acá tu código para el entrenamiento del modelo\n",
        "    x, y = X[\"words\"], X[\"class_\"]\n",
        "\n",
        "    # Atributo con las etiquetas de las clases \n",
        "    self.classes_ = list(y.unique())\n",
        "\n",
        "    # Array para guardar los scores de cada clase (Pc = N_c / N)\n",
        "    self.class_prob = np.zeros(len(self.classes_))\n",
        "    self.class_count_ = np.zeros(len(self.classes_))\n",
        "\n",
        "    # Creamos un vocabulario de palabras únicas contenida en la colección de\n",
        "    # documentos del conjunto de entrenamiento (self.x)\n",
        "    self.vocab = sorted(list(set([w for d in x.tolist() for w in d])))\n",
        "\n",
        "    # Creamos un diccionario con vectores de co-ocurrencia para contar \n",
        "    # las palabras dentro del vocabulario de cada clase. Se fija como conteo\n",
        "    self.occurrence_by_class = {c: np.zeros(len(self.vocab)) for c in self.classes_}\n",
        "\n",
        "    # Para cada clase actualizar su vector de co-ocurrencia\n",
        "    for idx, c in enumerate(self.classes_):\n",
        "      # Filtrar observaciones validas a contar que son las pertenecientes a la clase c\n",
        "      valid_obs = x[y == c]\n",
        "\n",
        "      # Computar class prior de la clase c (Pc = N_c / N). Esto a nivel de\n",
        "      # documentos que tiene la clase sobre el total de documentos\n",
        "      self.class_prob[idx] = valid_obs.shape[0] / x.shape[0]\n",
        "\n",
        "\n",
        "      # Contamos cuantas veces aparece cada palabra dentro del corpus perteneciente\n",
        "      # a la clase c. Esta línea es la que tiene mayor complejidad y se aprovecha\n",
        "      # eficiencia de clase Counter\n",
        "      counts_by_word = Counter([w for d in valid_obs.tolist() for w in d])\n",
        "\n",
        "      # Iteramos por cada palabra que aparece en corpus de la clase c y actualizamos\n",
        "      # su vector de ocurrencia (i.e. self.occurrence_by_class[c]) el número \n",
        "      # de veces (cc) que aparece la palabra (w) en este\n",
        "      #\n",
        "      # Nota: Utilizamos el largo del vocabulario a nivel del corpus global (V)\n",
        "      # y su posición dentro del vector de ocurrencia es correlativa con la\n",
        "      # posición de las palabras en V\n",
        "      for w, cc in counts_by_word.items():\n",
        "        self.occurrence_by_class[c][self.vocab.index(w)] = cc\n",
        "        self.class_count_[idx] += cc\n",
        "\n",
        "    return self\n",
        "\n",
        "  def compute_score(self, doc, log_score=True):\n",
        "    \"\"\"\n",
        "    Método auxiliar para computar el log-puntaje (densidad no normalizada) de\n",
        "    un documento dado las posibles clases. Se utiliza Laplace (add-alpha) smoothing.\n",
        "    \n",
        "    Retorn un numpy array con la log-score de cada clase según las posiciones en\n",
        "    self.classes_\n",
        "    \"\"\"\n",
        "    #check_is_fitted()\n",
        "    score_by_class = np.zeros(len(self.classes_))\n",
        "\n",
        "    for idx, c in enumerate(self.classes_):\n",
        "      # Se implementa Laplace (add-alpha) smoothing. La list comprehension tiene\n",
        "      # una condición para verificar si la palabra esta en el vocabulario. En\n",
        "      # caso negativo, se calcula directamente: self.alpha / denominador. Así\n",
        "      # se evita el error que produciría self.vocab.index(palabra_que_no_esta_en_vocab)\n",
        "      score_by_doc = [(self.occurrence_by_class[c][self.vocab.index(w)] + self.alpha) / \n",
        "                      (self.class_count_[idx] + self.alpha * len(self.vocab)) if w in self.vocab \\\n",
        "                     else self.alpha / (self.class_count_[idx] + self.alpha * len(self.vocab))for w in doc]\n",
        "\n",
        "      if log_score:\n",
        "        score_by_class[idx] = np.exp(np.sum(np.log(score_by_doc)) + np.log(self.class_prob[idx]))\n",
        "      else:\n",
        "        score_by_class[idx] = np.prod(score_by_doc) * self.class_prob[idx]\n",
        "    \n",
        "    return score_by_class\n",
        "\n",
        "\n",
        "  def predict(self, X):\n",
        "    # Chequea que fit ha sido ejecutado anteriormente\n",
        "    #check_is_fitted()\n",
        "\n",
        "    # siempre realizamos las predicciones con log_score=True (evitar floating errors)\n",
        "    prediction = X[\"words\"].apply(lambda x: self.classes_[np.argmax(self.compute_score(x, log_score=True))])\n",
        "    return prediction\n",
        "\n",
        "  def predict_score(self, X, log_score=True):\n",
        "    \"\"\"Retorna los puntajes de cada clase. \n",
        "    \"\"\"\n",
        "    score_prediction = X[\"words\"].apply(lambda x: self.compute_score(x, log_score))\n",
        "    return score_prediction"
      ],
      "execution_count": 1,
      "outputs": []
    },
    {
      "cell_type": "markdown",
      "metadata": {
        "id": "_KOMJ-CS8PRP"
      },
      "source": [
        "### 2.4. Probando el clasificador (0.5 pt)"
      ]
    },
    {
      "cell_type": "markdown",
      "metadata": {
        "id": "hucdz-R7xerG"
      },
      "source": [
        "A continuación probarán el funcionamiento de su clasificador. Para esto, les presentamos un conjunto de documentos de entrenamiento `train_set` divididos en 2 categorias distintas. Ustedes deberán primero entrenar su clasificador usando el método `fit` de su clase y luego, clasificar los documentos del conjunto de prueva `test_set` usando el método `predict`.\n",
        "\n",
        "**NOTA:** Como pueden ver, los objetos `namedtuple`s tienen dos atributos: `words` donde están las palabras del documento y `class_` donde se guarda la clase de ese documento. Estos objetos son inmutables, lo que quiere decir que si quieren modificar un documento y cambiarle la clase, tienen que crear otro documento. Otra cosa es que son tuplas como cualquier otra, es decir se pueden acceder usando indices como `doc[0]` o `doc[1]`."
      ]
    },
    {
      "cell_type": "code",
      "source": [
        "import pandas as pd\n",
        "\n",
        "from collections import namedtuple"
      ],
      "metadata": {
        "id": "9aRSrhd5jLDh"
      },
      "execution_count": 4,
      "outputs": []
    },
    {
      "cell_type": "code",
      "source": [
        "import nltk\n",
        "nltk.download('punkt')\n",
        "from nltk.tokenize import word_tokenize"
      ],
      "metadata": {
        "colab": {
          "base_uri": "https://localhost:8080/"
        },
        "id": "qN1SdLycuK4W",
        "outputId": "375970a3-02ab-446c-e5e5-f44004dccab3"
      },
      "execution_count": 2,
      "outputs": [
        {
          "output_type": "stream",
          "name": "stderr",
          "text": [
            "[nltk_data] Downloading package punkt to /root/nltk_data...\n",
            "[nltk_data]   Package punkt is already up-to-date!\n"
          ]
        }
      ]
    },
    {
      "cell_type": "markdown",
      "source": [
        "#### 2.4.1 Primer Caso: Clasificación de ejemplo visto en clases (0.20 pt)"
      ],
      "metadata": {
        "id": "JfS5wXfwxx6t"
      }
    },
    {
      "cell_type": "code",
      "source": [
        "document = namedtuple(\n",
        "    \"document\", (\"words\", \"class_\")  # avoid python's keyword collision\n",
        ")\n",
        "\n",
        "train_set = [['Chinese Beijing\tChinese', 'c'],\n",
        "             ['Chinese\tChinese\tShanghai','c'],\n",
        "             ['Chinese\tMacao','c'],\n",
        "             ['Tokyo\tJapan\tChinese','j']]\n",
        "\n",
        "train_set = [document(words=tuple(word_tokenize(d[0])), class_=d[1]) for d in train_set]\n",
        "X_train = pd.DataFrame(data=train_set)\n",
        "\n",
        "test_set = [['Chinese\tChinese\tChinese\tTokyo Japan', None]]\n",
        "test_set = [document(words=tuple(word_tokenize(d[0])), class_=d[1]) for d in test_set]\n",
        "X_test = pd.DataFrame(data=test_set)\n",
        "\n",
        "X_train = pd.DataFrame(data=train_set)\n",
        "print(\"Documentos de entrenamiento\")\n",
        "print(X_train)\n",
        "\n",
        "X_test = pd.DataFrame(data=test_set)\n",
        "print(\"\\nDocumentos de prueba:\")\n",
        "print(X_test)"
      ],
      "metadata": {
        "id": "5yXBv2Kqxyyf",
        "colab": {
          "base_uri": "https://localhost:8080/"
        },
        "outputId": "eb9bf88d-a2a6-4a44-9047-87238492c42a"
      },
      "execution_count": 5,
      "outputs": [
        {
          "output_type": "stream",
          "name": "stdout",
          "text": [
            "Documentos de entrenamiento\n",
            "                          words class_\n",
            "0   (Chinese, Beijing, Chinese)      c\n",
            "1  (Chinese, Chinese, Shanghai)      c\n",
            "2              (Chinese, Macao)      c\n",
            "3       (Tokyo, Japan, Chinese)      j\n",
            "\n",
            "Documentos de prueba:\n",
            "                                       words class_\n",
            "0  (Chinese, Chinese, Chinese, Tokyo, Japan)   None\n"
          ]
        }
      ]
    },
    {
      "cell_type": "code",
      "source": [
        "# Acá probarán su clasificador\n",
        "\n",
        "# inicializamos el clasificador\n",
        "my_clf = MyMultinomialNB(alpha=1.0)\n",
        "\n",
        "# entrenamos el clasificador para los datos de entrenamiento X_train\n",
        "my_clf.fit(X_train)\n",
        "\n",
        "# acá puedes ver el vocabulario extraído por tu clasificador, \n",
        "# intenta tenerlo guardado en my_clf.vocab\n",
        "print('vocab: ', my_clf.vocab)\n",
        "\n",
        "# si implementaron el método predict_proba en el clasificador (no era obligatorio), \n",
        "# acá lo pueden probar\n",
        "# print('\\nTest probs:')\n",
        "# print('\\n'.join([str(l) for l in my_clf.predict_proba(X_test, log_score=False)]))\n",
        "\n",
        "# obtengamos las predicciones \n",
        "print('\\nTest predictions:')\n",
        "print('\\n'.join(['{} <- {}'.format(c, ' '.join(s)) for c, s in zip(my_clf.predict(X_test), X_test['words'])]))"
      ],
      "metadata": {
        "id": "UAx0t3zQx2PJ",
        "colab": {
          "base_uri": "https://localhost:8080/"
        },
        "outputId": "6d3d095f-dfe4-46ee-9591-300c86c7e36b"
      },
      "execution_count": 7,
      "outputs": [
        {
          "output_type": "stream",
          "name": "stdout",
          "text": [
            "vocab:  ['Beijing', 'Chinese', 'Japan', 'Macao', 'Shanghai', 'Tokyo']\n",
            "\n",
            "Test predictions:\n",
            "c <- Chinese Chinese Chinese Tokyo Japan\n"
          ]
        }
      ]
    },
    {
      "cell_type": "markdown",
      "source": [
        "**Respuesta esperada:**\n",
        "\n",
        "**Nota:** No es necesario que obtenga exactamente la misma probabilidad, lo importante es que su clasificador genere la predicción expuesta.\n",
        "\n",
        "```python\n",
        "vocab:  ['Beijing', 'Chinese', 'Macao', 'Tokyo', 'Japan', 'Shanghai']\n",
        "\n",
        "Test probs:\n",
        "[0.68975861 0.31024139]\n",
        "\n",
        "Test predictions:\n",
        "c <- Chinese Chinese Chinese Tokyo Japan\n",
        "```"
      ],
      "metadata": {
        "id": "dMyCgXxvx29L"
      }
    },
    {
      "cell_type": "markdown",
      "source": [
        "#### 2.4.2 Segundo Caso (0.30 pt)"
      ],
      "metadata": {
        "id": "mpG_t1wTx99m"
      }
    },
    {
      "cell_type": "code",
      "metadata": {
        "id": "HLi8PxdV2VQX",
        "colab": {
          "base_uri": "https://localhost:8080/"
        },
        "outputId": "4a521a03-df00-4454-9465-7506d82dd4c1"
      },
      "source": [
        "document = namedtuple(\n",
        "    \"document\", (\"words\", \"class_\")  # avoid python's keyword collision\n",
        ")\n",
        "\n",
        "train_set = (\n",
        "    document(words=('w03', 'w01', 'w02', 'w06', 'w02', 'w08', 'w07'), class_=0),\n",
        "    document(words=('w05', 'w04', 'w00', 'w06', 'w09', 'w07', 'w06', 'w09', 'w05'), class_=1),\n",
        "    document(words=('w07', 'w06', 'w00', 'w08', 'w01', 'w08', 'w08', 'w09', 'w02'), class_=0),\n",
        "    document(words=('w08', 'w09', 'w02', 'w06', 'w05', 'w08', 'w07'), class_=1),\n",
        "    document(words=('w09', 'w08', 'w05', 'w08', 'w05', 'w00', 'w08'), class_=1),\n",
        "    document(words=('w05', 'w05', 'w06', 'w01', 'w06', 'w08', 'w02'), class_=1),\n",
        "    document(words=('w04', 'w03', 'w07', 'w05', 'w04', 'w00', 'w02'), class_=0),\n",
        "    document(words=('w01', 'w00', 'w01', 'w04', 'w09', 'w02', 'w04', 'w07'), class_=1)\n",
        ")\n",
        "X_train = pd.DataFrame(data=train_set)\n",
        "print(\"Documentos de entrenamiento\")\n",
        "print(X_train)\n",
        "\n",
        "test_set = (document(words=('w02', 'w09', 'w06', 'w01', 'w05', 'w04', 'w03', 'w03'), class_=None),\n",
        "            document(words=('w03', 'w03', 'w04', 'w05', 'w01', 'w06', 'w09', 'w02'), class_=None))\n",
        "X_test = pd.DataFrame(data=test_set)\n",
        "print(\"\\nDocumentos de prueba:\")\n",
        "print(X_test)"
      ],
      "execution_count": 8,
      "outputs": [
        {
          "output_type": "stream",
          "name": "stdout",
          "text": [
            "Documentos de entrenamiento\n",
            "                                           words  class_\n",
            "0            (w03, w01, w02, w06, w02, w08, w07)       0\n",
            "1  (w05, w04, w00, w06, w09, w07, w06, w09, w05)       1\n",
            "2  (w07, w06, w00, w08, w01, w08, w08, w09, w02)       0\n",
            "3            (w08, w09, w02, w06, w05, w08, w07)       1\n",
            "4            (w09, w08, w05, w08, w05, w00, w08)       1\n",
            "5            (w05, w05, w06, w01, w06, w08, w02)       1\n",
            "6            (w04, w03, w07, w05, w04, w00, w02)       0\n",
            "7       (w01, w00, w01, w04, w09, w02, w04, w07)       1\n",
            "\n",
            "Documentos de prueba:\n",
            "                                      words class_\n",
            "0  (w02, w09, w06, w01, w05, w04, w03, w03)   None\n",
            "1  (w03, w03, w04, w05, w01, w06, w09, w02)   None\n"
          ]
        }
      ]
    },
    {
      "cell_type": "code",
      "metadata": {
        "id": "OXHwmOWB-4Aa",
        "colab": {
          "base_uri": "https://localhost:8080/"
        },
        "outputId": "d5e1d003-f215-4dad-fce7-2472e7e8d422"
      },
      "source": [
        "# Acá probarán su clasificador\n",
        "\n",
        "# inicializamos el clasificador\n",
        "my_clf = MyMultinomialNB(alpha=1.0)\n",
        "\n",
        "# entrenamos el clasificador para los datos de entrenamiento X_train\n",
        "my_clf.fit(X_train)\n",
        "\n",
        "# acá puedes ver el vocabulario extraído por tu clasificador, \n",
        "# intenta tenerlo guardado en my_clf.vocab\n",
        "print('vocab: ', my_clf.vocab)\n",
        "\n",
        "# si implementaron el método predict_proba en el clasificador (no era obligatorio), \n",
        "# acá lo pueden probar\n",
        "# print('\\nTest probs:')\n",
        "# print('\\n'.join([str(l) for l in my_clf.predict_proba(X_test, log_score=False)]))\n",
        "\n",
        "# obtengamos las predicciones \n",
        "print('\\nTest predictions:')\n",
        "print('\\n'.join(['{} <- {}'.format(c, ' '.join(s)) for c, s in zip(my_clf.predict(X_test), X_test['words'])]))"
      ],
      "execution_count": 9,
      "outputs": [
        {
          "output_type": "stream",
          "name": "stdout",
          "text": [
            "vocab:  ['w00', 'w01', 'w02', 'w03', 'w04', 'w05', 'w06', 'w07', 'w08', 'w09']\n",
            "\n",
            "Test predictions:\n",
            "0 <- w02 w09 w06 w01 w05 w04 w03 w03\n",
            "0 <- w03 w03 w04 w05 w01 w06 w09 w02\n"
          ]
        }
      ]
    },
    {
      "cell_type": "markdown",
      "metadata": {
        "id": "5tDZnmns_1dW"
      },
      "source": [
        "#### 2.4.3 (OPCIONAL) Oraciones reales\n",
        "\n",
        "Aquí intentaremos entrenar un clasificador para determinar cuando una oracion en inglés es interrogativa, afirmativa o negativa."
      ]
    },
    {
      "cell_type": "code",
      "metadata": {
        "id": "YCWi3oytd2nf",
        "colab": {
          "base_uri": "https://localhost:8080/"
        },
        "outputId": "b4cba5a3-dbab-41df-83ec-d97a1ad034a2"
      },
      "source": [
        "import nltk\n",
        "nltk.download('punkt')\n",
        "from nltk.tokenize import word_tokenize\n",
        "\n",
        "document = namedtuple(\n",
        "    \"document\", (\"words\", \"class_\")  # avoid python's keyword collision\n",
        ")\n",
        "\n",
        "train_set2 = [\n",
        "              ['Do you have plenty of time?', '?'],\n",
        "              ['Does she have enough money?','?'],\n",
        "              ['Did they have any useful advice?','?'],\n",
        "              ['What day is today?','?'],\n",
        "              [\"I don't have much time\",'-'],\n",
        "              [\"She doesn't have any money\",'-'],\n",
        "              [\"They didn't have any advice to offer\",'-'],\n",
        "              ['Have you plenty of time?','?'],\n",
        "              ['Has she enough money?','?'],\n",
        "              ['Had they any useful advice?','?'],\n",
        "              [\"I haven't much time\",'-'],\n",
        "              [\"She hasn't any money\",'-'],\n",
        "              [\"He hadn't any advice to offer\",'-'],\n",
        "              ['How are you?','?'],\n",
        "              ['How do you make questions in English?','?'],\n",
        "              ['How long have you lived here?','?'],\n",
        "              ['How often do you go to the cinema?','?'],\n",
        "              ['How much is this dress?','?'],\n",
        "              ['How old are you?','?'],\n",
        "              ['How many people came to the meeting?','?'],\n",
        "              ['I’m from France','+'],\n",
        "              ['I come from the UK','+'],\n",
        "              ['My phone number is 61709832145','+'],\n",
        "              ['I work as a tour guide for a local tour company','+'],\n",
        "              ['I’m not dating anyone','-'],\n",
        "              ['I live with my wife and children','+'],\n",
        "              ['I often do morning exercises at 6am','+'],\n",
        "              ['I run everyday','+'],\n",
        "              ['She walks very slowly','+'],\n",
        "              ['They eat a lot of meat daily','+'],\n",
        "              ['We were in France that day', '+'],\n",
        "              ['He speaks very fast', '+'],\n",
        "              ['They told us they came back early', '+'],\n",
        "              [\"I told her I'll be there\", '+']\n",
        "]\n",
        "train_set2 = [document(words=tuple(word_tokenize(d[0])), class_=d[1]) for d in train_set2]\n",
        "X_train2 = pd.DataFrame(data=train_set2)\n",
        "print(\"Documentos de entrenamiento:\")\n",
        "print(X_train2)\n",
        "\n",
        "test_set2 = [\n",
        "             ['Do you know who lives here?','?'],\n",
        "             ['What time is it?','?'],\n",
        "             ['Can you tell me where she comes from?','?'],\n",
        "             ['How are you?','?'],\n",
        "             ['I fill good today', '+'],\n",
        "             ['There is a lot of history here','+'],\n",
        "             ['I love programming','+'],\n",
        "             ['He told us not to make so much noise','+'],  # interesing case\n",
        "             ['We were asked not to park in front of the house','+'],  # interesing case\n",
        "             [\"I don't have much time\",'-'],\n",
        "             [\"She doesn't have any money\",'-'],\n",
        "             [\"They didn't have any advice to offer\",'-'],\n",
        "             ['I am not really sure','+']\n",
        "]\n",
        "test_set2 = [document(words=tuple(word_tokenize(d[0])), class_=d[1]) for d in test_set2]\n",
        "X_test2 = pd.DataFrame(data=test_set2)\n",
        "print(\"\\nDocumentos de prueba:\")\n",
        "print(X_test2)"
      ],
      "execution_count": 10,
      "outputs": [
        {
          "output_type": "stream",
          "name": "stdout",
          "text": [
            "Documentos de entrenamiento:\n",
            "                                                words class_\n",
            "0                (Do, you, have, plenty, of, time, ?)      ?\n",
            "1                 (Does, she, have, enough, money, ?)      ?\n",
            "2           (Did, they, have, any, useful, advice, ?)      ?\n",
            "3                           (What, day, is, today, ?)      ?\n",
            "4                      (I, do, n't, have, much, time)      -\n",
            "5                  (She, does, n't, have, any, money)      -\n",
            "6      (They, did, n't, have, any, advice, to, offer)      -\n",
            "7                    (Have, you, plenty, of, time, ?)      ?\n",
            "8                        (Has, she, enough, money, ?)      ?\n",
            "9                 (Had, they, any, useful, advice, ?)      ?\n",
            "10                         (I, have, n't, much, time)      -\n",
            "11                        (She, has, n't, any, money)      -\n",
            "12             (He, had, n't, any, advice, to, offer)      -\n",
            "13                                 (How, are, you, ?)      ?\n",
            "14    (How, do, you, make, questions, in, English, ?)      ?\n",
            "15             (How, long, have, you, lived, here, ?)      ?\n",
            "16      (How, often, do, you, go, to, the, cinema, ?)      ?\n",
            "17                    (How, much, is, this, dress, ?)      ?\n",
            "18                            (How, old, are, you, ?)      ?\n",
            "19     (How, many, people, came, to, the, meeting, ?)      ?\n",
            "20                            (I, ’, m, from, France)      +\n",
            "21                           (I, come, from, the, UK)      +\n",
            "22               (My, phone, number, is, 61709832145)      +\n",
            "23  (I, work, as, a, tour, guide, for, a, local, t...      +\n",
            "24                     (I, ’, m, not, dating, anyone)      -\n",
            "25           (I, live, with, my, wife, and, children)      +\n",
            "26        (I, often, do, morning, exercises, at, 6am)      +\n",
            "27                                 (I, run, everyday)      +\n",
            "28                         (She, walks, very, slowly)      +\n",
            "29               (They, eat, a, lot, of, meat, daily)      +\n",
            "30                  (We, were, in, France, that, day)      +\n",
            "31                           (He, speaks, very, fast)      +\n",
            "32          (They, told, us, they, came, back, early)      +\n",
            "33                  (I, told, her, I, 'll, be, there)      +\n",
            "\n",
            "Documentos de prueba:\n",
            "                                                words class_\n",
            "0                (Do, you, know, who, lives, here, ?)      ?\n",
            "1                             (What, time, is, it, ?)      ?\n",
            "2    (Can, you, tell, me, where, she, comes, from, ?)      ?\n",
            "3                                  (How, are, you, ?)      ?\n",
            "4                              (I, fill, good, today)      +\n",
            "5              (There, is, a, lot, of, history, here)      +\n",
            "6                              (I, love, programming)      +\n",
            "7      (He, told, us, not, to, make, so, much, noise)      +\n",
            "8   (We, were, asked, not, to, park, in, front, of...      +\n",
            "9                      (I, do, n't, have, much, time)      -\n",
            "10                 (She, does, n't, have, any, money)      -\n",
            "11     (They, did, n't, have, any, advice, to, offer)      -\n",
            "12                         (I, am, not, really, sure)      +\n"
          ]
        },
        {
          "output_type": "stream",
          "name": "stderr",
          "text": [
            "[nltk_data] Downloading package punkt to /root/nltk_data...\n",
            "[nltk_data]   Package punkt is already up-to-date!\n"
          ]
        }
      ]
    },
    {
      "cell_type": "code",
      "metadata": {
        "id": "6Wdp22w2ArUl",
        "colab": {
          "base_uri": "https://localhost:8080/"
        },
        "outputId": "490b2936-d3cc-4872-d5a3-f087ddbac679"
      },
      "source": [
        "# Acá probarán su clasificador y computaremos algunas métricas de evaluacion\n",
        "\n",
        "from sklearn.metrics import classification_report\n",
        "\n",
        "# inicializamos el clasificador\n",
        "my_clf2 = MyMultinomialNB(alpha=1.7)\n",
        "\n",
        "# entrenamos el clasificador para los datos de entrenamiento X_train2\n",
        "my_clf2.fit(X_train2)\n",
        "\n",
        "# acá puedes ver el vocabulario extraído por tu clasificador, \n",
        "# intenta tenerlo guardado en my_clf.vocab\n",
        "print('vocab: ', len(my_clf2.vocab), my_clf2.vocab)\n",
        "\n",
        "# si implementaron el método predict_score en el clasificador (no era obligatorio), \n",
        "# acá lo pueden probar\n",
        "print('\\nTest probs:')\n",
        "print('\\n'.join([str(l) for l in my_clf.predict_score(X_test2, log_score=False)]))\n",
        "\n",
        "# obtengamos las predicciones para X_test2\n",
        "print('\\nTest predictions:')\n",
        "my_y_preds = my_clf2.predict(X_test2)\n",
        "print('\\n'.join(['{} <- {}'.format(c, ' '.join(s)) for c, s in zip(my_y_preds, X_test2['words'])]))\n",
        "print(classification_report(y_true=X_test2['class_'], y_pred=my_y_preds, target_names=['?', '+', '-']))"
      ],
      "execution_count": 11,
      "outputs": [
        {
          "output_type": "stream",
          "name": "stdout",
          "text": [
            "vocab:  109 [\"'ll\", '61709832145', '6am', '?', 'Did', 'Do', 'Does', 'English', 'France', 'Had', 'Has', 'Have', 'He', 'How', 'I', 'My', 'She', 'They', 'UK', 'We', 'What', 'a', 'advice', 'and', 'any', 'anyone', 'are', 'as', 'at', 'back', 'be', 'came', 'children', 'cinema', 'come', 'company', 'daily', 'dating', 'day', 'did', 'do', 'does', 'dress', 'early', 'eat', 'enough', 'everyday', 'exercises', 'fast', 'for', 'from', 'go', 'guide', 'had', 'has', 'have', 'her', 'here', 'in', 'is', 'live', 'lived', 'local', 'long', 'lot', 'm', 'make', 'many', 'meat', 'meeting', 'money', 'morning', 'much', 'my', \"n't\", 'not', 'number', 'of', 'offer', 'often', 'old', 'people', 'phone', 'plenty', 'questions', 'run', 'she', 'slowly', 'speaks', 'that', 'the', 'there', 'they', 'this', 'time', 'to', 'today', 'told', 'tour', 'us', 'useful', 'very', 'walks', 'were', 'wife', 'with', 'work', 'you', '’']\n",
            "\n",
            "Test probs:\n",
            "[8.79900751e-12 1.06461200e-12]\n",
            "[9.58211918e-09 2.45286604e-09]\n",
            "[8.07989671e-15 4.62071179e-16]\n",
            "[3.16209933e-07 1.17737570e-07]\n",
            "[3.16209933e-07 1.17737570e-07]\n",
            "[8.79900751e-12 1.06461200e-12]\n",
            "[1.04349278e-05 5.65140336e-06]\n",
            "[8.07989671e-15 4.62071179e-16]\n",
            "[7.41955621e-18 2.00551727e-19]\n",
            "[2.90367248e-10 5.11013758e-11]\n",
            "[2.90367248e-10 5.11013758e-11]\n",
            "[2.66636591e-13 2.21794166e-14]\n",
            "[9.58211918e-09 2.45286604e-09]\n",
            "\n",
            "Test predictions:\n",
            "? <- Do you know who lives here ?\n",
            "? <- What time is it ?\n",
            "? <- Can you tell me where she comes from ?\n",
            "? <- How are you ?\n",
            "+ <- I fill good today\n",
            "+ <- There is a lot of history here\n",
            "+ <- I love programming\n",
            "- <- He told us not to make so much noise\n",
            "? <- We were asked not to park in front of the house\n",
            "- <- I do n't have much time\n",
            "- <- She does n't have any money\n",
            "- <- They did n't have any advice to offer\n",
            "+ <- I am not really sure\n",
            "              precision    recall  f1-score   support\n",
            "\n",
            "           ?       1.00      0.67      0.80         6\n",
            "           +       0.75      1.00      0.86         3\n",
            "           -       0.80      1.00      0.89         4\n",
            "\n",
            "    accuracy                           0.85        13\n",
            "   macro avg       0.85      0.89      0.85        13\n",
            "weighted avg       0.88      0.85      0.84        13\n",
            "\n"
          ]
        }
      ]
    },
    {
      "cell_type": "markdown",
      "source": [
        "* Utilizando `alpha=1.7` se obtienen los mismos resultados.\n",
        "\n",
        "```\n",
        " precision    recall  f1-score   support\n",
        "\n",
        "           ?       1.00      0.67      0.80         6\n",
        "           +       0.75      1.00      0.86         3\n",
        "           -       0.80      1.00      0.89         4\n",
        "\n",
        "    accuracy                           0.85        13\n",
        "   macro avg       0.85      0.89      0.85        13\n",
        "weighted avg       0.88      0.85      0.84        13\n",
        "```\n",
        "\n",
        "* Utilizando `alpha=1.0` se obtiene:\n",
        "\n",
        "```\n",
        "           precision    recall  f1-score   support\n",
        "\n",
        "           ?       1.00      0.67      0.80         6\n",
        "           +       0.60      1.00      0.75         3\n",
        "           -       1.00      1.00      1.00         4\n",
        "\n",
        "    accuracy                           0.85        13\n",
        "   macro avg       0.87      0.89      0.85        13\n",
        "weighted avg       0.91      0.85      0.85        13\n",
        "```\n",
        "\n",
        "* Utilizando `alpha=0.2` se obtiene:\n",
        "\n",
        "```\n",
        "          precision    recall  f1-score   support\n",
        "\n",
        "           ?       1.00      0.50      0.67         6\n",
        "           +       0.50      1.00      0.67         3\n",
        "           -       1.00      1.00      1.00         4\n",
        "\n",
        "    accuracy                           0.77        13\n",
        "   macro avg       0.83      0.83      0.78        13\n",
        "weighted avg       0.88      0.77      0.77        13\n",
        "```\n",
        "\n",
        "* Utilizando `alpha=0.0` se obtiene:\n",
        "\n",
        "```\n",
        " precision    recall  f1-score   support\n",
        "\n",
        "           ?       0.00      0.00      0.00         6\n",
        "           +       1.00      1.00      1.00         3\n",
        "           -       0.40      1.00      0.57         4\n",
        "\n",
        "    accuracy                           0.54        13\n",
        "   macro avg       0.47      0.67      0.52        13\n",
        "weighted avg       0.35      0.54      0.41        13\n",
        "```"
      ],
      "metadata": {
        "id": "8w1qyXP18kmM"
      }
    },
    {
      "cell_type": "markdown",
      "source": [
        "**Respuesta aproximada:**\n",
        "\n",
        "**Nota:** No es necesario que obtenga exactamente los mismos resultados.\n",
        "\n",
        "```python\n",
        "              precision    recall  f1-score   support\n",
        "\n",
        "           ?       1.00      0.67      0.80         6\n",
        "           +       0.75      1.00      0.86         3\n",
        "           -       0.80      1.00      0.89         4\n",
        "\n",
        "    accuracy                           0.85        13\n",
        "   macro avg       0.85      0.89      0.85        13\n",
        "weighted avg       0.88      0.85      0.84        13\n",
        "```"
      ],
      "metadata": {
        "id": "WXbg6sNTdAlO"
      }
    }
  ]
}