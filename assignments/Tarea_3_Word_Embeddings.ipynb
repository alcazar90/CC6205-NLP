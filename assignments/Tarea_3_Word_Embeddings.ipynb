{
  "nbformat": 4,
  "nbformat_minor": 0,
  "metadata": {
    "colab": {
      "provenance": []
    },
    "kernelspec": {
      "display_name": "Python 3",
      "language": "python",
      "name": "python3"
    },
    "language_info": {
      "codemirror_mode": {
        "name": "ipython",
        "version": 3
      },
      "file_extension": ".py",
      "mimetype": "text/x-python",
      "name": "python",
      "nbconvert_exporter": "python",
      "pygments_lexer": "ipython3",
      "version": "3.6.9"
    }
  },
  "cells": [
    {
      "cell_type": "markdown",
      "metadata": {
        "id": "Ckbt7VPDhBwb"
      },
      "source": [
        "# **Tarea 3 - Word Embeddings 📚**\n",
        "\n",
        "**Integrantes:** Cristóbal Alcázar, Gianina Salomó\n",
        "\n",
        "**Fecha límite de entrega 📆:** 16 de mayo.\n",
        "\n",
        "**Tiempo estimado de dedicación:**"
      ]
    },
    {
      "cell_type": "markdown",
      "metadata": {
        "ExecuteTime": {
          "end_time": "2020-03-19T18:30:18.109327Z",
          "start_time": "2020-03-19T18:30:18.103344Z"
        },
        "id": "q5CSRY4oNCHK"
      },
      "source": [
        "\n",
        "**Instrucciones:**\n",
        "- El ejercicio consiste en:\n",
        "    - Responder preguntas relativas a los contenidos vistos en los vídeos y slides de las clases.\n",
        "    - Implementar el método de la Word Context Matrix. \n",
        "    - Entrenar Word2Vec y FastText sobre un pequeño corpus.\n",
        "    - Evaluar los embeddings obtenidos en una tarea de clasificación.\n",
        "- La tarea se realiza en grupos de **máximo** 2 personas. Puede ser invidivual pero no es recomendable.\n",
        "- La entrega es a través de u-cursos a más tardar el día estipulado arriba. No se aceptan atrasos.\n",
        "- El formato de entrega es este mismo **Jupyter Notebook**.\n",
        "- Al momento de la revisión tu código será ejecutado. Por favor verifica que tu entrega no tenga errores de compilación. \n",
        "\n",
        "\n",
        "**Referencias**\n",
        "\n",
        "Vídeos: \n",
        "\n",
        "- [Linear Models](https://youtu.be/zhBxDsNLZEA)\n",
        "- [Neural Networks](https://youtu.be/oHZHA8h2xN0)\n",
        "- [Word Embeddings](https://youtu.be/wtwUsJMC9CA)"
      ]
    },
    {
      "cell_type": "markdown",
      "metadata": {
        "id": "G4wYf0vgnbTv"
      },
      "source": [
        "## **Preguntas teóricas 📕 (3 puntos).** ##\n",
        "Para estas preguntas no es necesario implementar código, pero pueden utilizar pseudo código."
      ]
    },
    {
      "cell_type": "markdown",
      "metadata": {
        "id": "B5hUG6-8ngoK"
      },
      "source": [
        "### **Parte 1: Modelos Lineales (1.5 ptos)**"
      ]
    },
    {
      "cell_type": "markdown",
      "metadata": {
        "id": "5yRvZbhsoi8f"
      },
      "source": [
        "Suponga que tiene un dataset de 10.000 documentos etiquetados por 4 categorías: política, deporte, negocios y otros. "
      ]
    },
    {
      "cell_type": "markdown",
      "metadata": {
        "id": "irsqBVmCnx3M"
      },
      "source": [
        "**Pregunta 1**: Diseñe un modelo lineal capaz de clasificar un documento según estas categorías donde el output sea un vector con una distribución de probabilidad con la pertenencia a cada clase. \n",
        "\n",
        "Especifique: representación de los documentos de entrada, parámetros del modelo, transformaciones necesarias para obtener la probabilidad de cada etiqueta y función de pérdida escogida. **(0.75 puntos)**\n",
        "\n",
        "**Respuesta**: \n",
        "$$\n",
        "\\newcommand{\\vecthat}[1]{\\vec{\\hat{#1}}}\n",
        "$$\n",
        "\n",
        "Se diseña un modelo lineal de Regresión Logística para clasificación multiclase mediante aprendizaje supervisado:\n",
        "- _Input_: Documento representado como un vector $\\vec x$ _sparse_, de tipo \"Bag of Words\". Su dimensión $d_{in}$ corresponde al tamaño del vocabulario $V$.\n",
        "- _Output_: Vector $\\vecthat y$ de dimensionalidad $d_{out}=4$; Su dimensionalidad corresponde a la cantidad de clases.\n",
        "- _Parámetros_: Matriz de pesos $W$ de dimensiones $d_{in} \\times d_{out}$, y vector de sesgos $\\vec b$ de dimensión $d_{out}$.\n",
        "\n",
        "El modelo lineal se entrena a partir de un corpus de $k$ documentos vectorizados y etiquetados, y busca predecir la probabilidad de pertenencia de un documento a cada clase.\n",
        "\n",
        "Durante el entrenamiento, los pesos de $W$ se ajustan mediante descenso de gradiente estocástico, de forma de disminuir la pérdida entregada por una _función de pérdida de entropía cruzada categórica_. Ésta calcula la diferencia entre la distribución de probabilidades de pertenencia a cada clase entregada por la predicción del modelo (obtenidas a partir de aplicar _softmax_ a la predicción del modelo), con la distribución real de probabilidades de clase (codificada como vector one hot).\n",
        "\n",
        "La _transformación de softmax_ fuerza a que las salidas para cada elemento del vector $\\vecthat y$ sean positivas, y sumen 1 entre ellas, para así tener una interpretación probabilística.\n",
        "\n",
        "- Modelo: $\\vecthat y = \\text{softmax}(\\vec x \\cdot W + \\vec b)$\n",
        "\n"
      ]
    },
    {
      "cell_type": "markdown",
      "metadata": {
        "id": "G5FaWqBVvL90"
      },
      "source": [
        "**Pregunta 2**: Explique cómo funciona el proceso de entrenamiento en este tipo de modelos y su evaluación. **(0.75 puntos)**\n",
        "\n",
        "**Respuesta**: "
      ]
    },
    {
      "cell_type": "markdown",
      "metadata": {
        "id": "XkK7pc54njZq"
      },
      "source": [
        "### **Parte 2: Redes Neuronales (1.5 ptos)** "
      ]
    },
    {
      "cell_type": "markdown",
      "metadata": {
        "id": "VUbJjlj_9AFC"
      },
      "source": [
        "Supongamos que tenemos la siguiente red neuronal."
      ]
    },
    {
      "cell_type": "markdown",
      "metadata": {
        "id": "obUfuOYB_TOC"
      },
      "source": [
        "![image.png](https://drive.google.com/uc?export=view&id=1nV1G0dOeVGPn40qGcGF9l_pVEFNtLU-w)"
      ]
    },
    {
      "cell_type": "markdown",
      "metadata": {
        "id": "s2z-8zKW0_6q"
      },
      "source": [
        "**Pregunta 1**: En clases les explicaron como se puede representar una red neuronal de una y dos capas de manera matemática. Dada la red neuronal anterior, defina la salida $\\vec{\\hat{y}}$ en función del vector $\\vec{x}$, pesos $W^i$, bias $b^i$ y funciones $g,f,h$. \n",
        "\n",
        "Adicionalmente liste y explicite las dimensiones de cada matriz y vector involucrado en la red neuronal. **(0.75 Puntos)**\n",
        "\n",
        "**Respuesta**: \n",
        "\n"
      ]
    },
    {
      "cell_type": "markdown",
      "source": [
        "![IMG_8214.jpg](data:image/jpeg;base64,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)"
      ],
      "metadata": {
        "id": "5SZlnl8j1RtV"
      }
    },
    {
      "cell_type": "markdown",
      "source": [
        "La formulación del MLP3 según la notación vista en clases se indica\n",
        "en el diagrama de arriba. Se presentan las matrices con los parámetros\n",
        "usadas para transformar los datos de capa en capa, se adjuntan las dimensiones\n",
        "de cada matriz de parámetros, y recordar que también hay _biases_ pero no\n",
        "aparecen en el diagrama. El super indice $i$ en $h^{(i)}$ indica la \n",
        "i-esima capa oculta.\n",
        "\n",
        "\n",
        "* $\\vec{x}=[x_1,x_2, x_3] \\in \\mathrm{R}^{1\\times 3}$\n",
        "* $\\vec{\\textbf{h}}^{(1)}=[h_1^{(1)}, h_2^{(1)}]~\\in \\mathrm{R}^{1\\times 2}$\n",
        "* $\\vec{\\textbf{h}}^{(2)}=[h_1^{(2)}, h_2^{(2)}, h_2^{(2)}]~\\in \\mathrm{R}^{1\\times 3}$\n",
        "* $\\vec{\\textbf{h}}^{(3)}=[h_1^{(3)}]~\\in \\mathrm{R}^{1\\times 1}$\n",
        "* $\\vec{\\hat{y}} =[y_1, y_2, y_3, y_4]~\\in \\mathrm{R}^{1\\times 4}$\n",
        "* Las funciones de activación aplicadas en cada capa oculta son $g^{(1)}, g^{(2)}$ y $g^{(3)}$\n",
        "* Si bien en el diagrama de arriba se indican los parámetros $\\textbf{W}^{(i)}$\n",
        "y sus dimensiones, faltan los _biases_ para cada capa oculta $\\vec{\\text{b}}^{(i)}$, y tienen la misma dimensión que los vectores $\\vec{\\textbf{h}}^{(i)}$.\n",
        "\n",
        "Es posible formular el vector de salida $\\vec{\\hat{y}}$ usando\n",
        "la notación anterior en la siguiente expresión recursiva:\n"
      ],
      "metadata": {
        "id": "SBA855Ep1kC_"
      }
    },
    {
      "cell_type": "markdown",
      "source": [
        "\n",
        "* $\\vec{\\textbf{h}}^{(1)} = \\vec{x}\\textbf{W}^{(1)} + \\vec{\\textbf{b}}^{(1)}$\n",
        "* $\\vec{\\textbf{h}}^{(2)} = g^{(1)}\\big(\\vec{\\textbf{h}}^{(1)}\\big)\\textbf{W}^{(2)} + \\vec{\\textbf{b}}^{(2)} = g^{(1)}\\big(\\vec{x}\\textbf{W}^{(1)} + \\vec{\\textbf{b}}^{(1)}\\big)\\textbf{W}^{(2)} + \\vec{\\textbf{b}}^{(2)}$\n",
        "* $\\vec{\\textbf{h}}^{(3)} = g^{(2)}\\big(  \\vec{\\textbf{h}}^{(2)}\\big)\\textbf{W}^{(3)} + \\vec{\\textbf{b}}^{(3)} = g^{(2)} \\big( g^{(1)}\\big(\\vec{x}\\textbf{W}^{(1)} + \\vec{\\textbf{b}}^{(1)}\\big)\\textbf{W}^{(2)} + \\vec{\\textbf{b}}^{(2)} \\big) \\textbf{W}^{(3)}+\\vec{\\textbf{b}}^{(3)}$\n",
        "* $\n",
        "\\vec{\\hat{y}} = NN_{MLP3}(\\vec{x}) = g^{(3)}\\big(\\vec{\\textbf{h}}^{(3)}\\big) \\textbf{W}^{(4)} = g^{(3)}\\big(\n",
        "    g^{(2)} \\big( g^{(1)}\\big(\\vec{x}\\textbf{W}^{(1)} + \\vec{\\textbf{b}}^{(1)}\\big)\\textbf{W}^{(2)} + \\vec{\\textbf{b}}^{(2)} \\big) \\textbf{W}^{(3)}+\\vec{\\textbf{b}}^{(3)} \n",
        "  \\big)\\textbf{W}^{(4)}$\n",
        "\n",
        "<br>\n",
        "\n",
        "**Nota:** siguiendo la formulación en clases del MLP2 no se agrega el _bias_ en la última capa."
      ],
      "metadata": {
        "id": "t66mWzN23pnR"
      }
    },
    {
      "cell_type": "markdown",
      "source": [
        "**Pregunta 2**: Explique qué es backpropagation. ¿Cuales serían los parámetros a evaluar en la red neuronal anterior durante backpropagation? **(0.25 puntos)**\n",
        "\n",
        "**Respuesta**:\n",
        "\n",
        "_Backpropagation_ es un caso especial de [diferenciación automática](https://en.wikipedia.org/wiki/Automatic_differentiation)\n",
        "que utiliza la propiedad de la regla de la cadena del gradiente para\n",
        "generar un [gráfico directo acíclico (aka DAG)](https://en.wikipedia.org/wiki/Directed_acyclic_graph) de derivadas parciales. De esta forma desacopla \n",
        "en variables intermedias una expresión anidada que se compone de\n",
        "operaciones elementales, y\n",
        "aplicadas de manera secuencial (e.g. `Xw -> Xw+b -> tanh(Xw+b)`), permitiendo\n",
        "propagar hacía atras la información del gradiente según la contribución de cada variable intermedia al resultado final de dicha expresión anidada.\n",
        "\n",
        "En el caso específico de la red neuronal, la \"expresión anidada\" es el valor de la función de costo o pérdida\n",
        "que se calcula  con las predicciones computadas por el _forward pass_, la cual se obtiene de evaluar una secuencia de capas\n",
        "lineales, funciones de activación, y otras operaciones (e.g. _batch normalization_), hasta llegar al valor escalar entregado\n",
        "por la función de pérdida que mide el error de la predicción respecto\n",
        "al _target_ o _ground truth_. En la respuesta anterior, el resultado del\n",
        "_forward pass_ sería evaluar $\\vec{\\hat{y}} = NN_{MLP3}(\\vec{x})$ dado\n",
        "cierto estado de sus parámetros $\\textbf{W}^{(i)}$.\n",
        "\n",
        "Es posible utilizar _backpropagation_ para\n",
        "computar la contribución del error realizado por cada párametro de la red, en\n",
        "el diagrama anterior serían los $\\textbf{W}^{(i)}$ más los _biases_, y luego\n",
        "utilizar esa información por algún algoritmo de optimización basado en gradientes para ajustar los parámetros en la dirección que disminuye el error,\n",
        "como por ejemplo lo hace el algoritmo de gradiente descendente y sus variantes (e.g. SGD). \n",
        "\n",
        "<br>\n",
        "<br>\n",
        "\n",
        "**Pregunta 3**: Explique los pasos de backpropagation. En la red neuronal anterior: Cuales son las derivadas que debemos calcular para poder obtener $\\vec{\\delta^l_{[j]}}$ en todas las capas? **(0.5 puntos)**\n",
        "\n",
        "<br>\n",
        "\n",
        "**Respuesta**:\n",
        "\n",
        "Definimos $\\vec{z}^{(\\ell)}$ (aka activaciones), que será la entrada de la siguiente capa $\\ell + 1$, como el vector con las unidades ocultas de $\\ell$ una vez aplicada la función de activación (i.e. $g(\\vec{h}^{(\\ell)})$). Ademas,\n",
        "definimos $\\vec{\\delta}^{(\\ell)}$ como el vector de derivadas parciales de la función\n",
        "de costo $L$ con respecto las unidades ocultas de la capa $\\ell$. \n",
        "\n",
        "$$\n",
        "\\vec{\\delta}^{(\\ell)} = \\frac{\\partial L}{\\partial \\vec{h}^{(\\ell)}}\n",
        "$$\n",
        "\n",
        "**Importante, $\\vec{\\delta}^{(\\ell)}$ no hace referencia a las derivadas parciales de $L$ respecto a los parámetros $W^{(\\ell)}$**. Estas derivadas parciales son las que finalmente búscamos calcular con _backpropagation_ para luego actualizar los parámetros, y continuar el entrenamiento o ajuste de la red.\n",
        "\n",
        "Los pasos de backpropagation sin considerar su implementación vía diferenciación\n",
        "automática (generación del grafo computacional DAG), son los siguientes:\n",
        "\n",
        "1. Al aplicar _forward pass_ desde la entrada $\\vec{x}$, para obtener las\n",
        "activaciones, unidades ocultas, y la salida $\\vec{\\hat{y}}$. Luego,\n",
        "computamos la función de costo usando la predicción y el valor real $L(\\vec{\\hat{y}}, \\vec{y})$.\n",
        "1. Computar $\\vec{\\delta^{(4)}}$  para todas las unidades de salida, en\n",
        "este problema la capa $\\ell=4$ es la capa de salida (ver diagrama). Estas\n",
        "derivadas parciales son fáciles de computar porque su contribución es directa al error entregado por la función de costo $L$. Básicamente obtenemos\n",
        "$\\vec{\\delta^{(4)}}$ al computar $\\partial L / \\partial \\vec{\\hat{y}}$ .\n",
        "1. Luego, realizamos el _backward pass_ para propagar recursivamente hacía\n",
        "atras $\\vec{\\delta}^{(\\ell + 1)}_{[k]}$ usando la ecuación de abajo y obtener $\\vec{\\delta}^{(\\ell)}_{[j]}$ para cada unidad oculta (o neurona)\n",
        "de la red. Esto es necesario porque la contribución del error $L$ en las capas\n",
        "intermedias y de entrada no son directas como la del output. La siguiente ecuación propaga la contribución del \n",
        "error que tuvo la unidad oculta $j$ de la capa $\\ell$, en cada una de las\n",
        "$k$ unidades ocultas de la capa siguiente ($\\ell + 1$), ponderando según los pesos respectivo que las conectan (i.e. $W_{[j,k]}$):\n",
        "\n",
        "<br>\n",
        "$$\n",
        "\\delta^{(\\ell)}_{[j]} = \\delta'(h^{(\\ell)}_{[j]}) \\times \\sum_{k}\\ (\\delta^{(\\ell + 1)}_{[k]} \\times W^{(\\ell+1)}_{[j,k]})\n",
        "$$\n",
        "\n",
        "4. Una vez que la recursión llegue al caso base, la capa de entrada, tendremos \n",
        "todo lo necesario para computar las **derivadas parciales de $L$ respecto a los\n",
        "parámetros de la red**. Recordar que en el _forward pass_ obtuvimos todos los calculos intermedios, incluyendo las activaciones $\\vec{z}^{(\\ell)}$, y en los dos pasos anteriores calculamos $\\vec{\\delta}^{(\\ell)}$ para todas las\n",
        "capas. Ahora solo debemos evaluar las siguientes expresiones en todos los niveles $\\ell$ de la red usando la información anterior: \n",
        "\n",
        "$$\n",
        "\\frac{\\partial L}{\\partial W^{\\ell}_{[i, j]}} = \\vec{\\delta}^{(\\ell)}_{[j]} \\times \\vec{z}^{(\\ell-1)}_{[i]}\n",
        "$$\n",
        "<br>\n",
        "Con esta última información, podemos utilizar un algoritmo de optimización\n",
        "basado en el primer gradiente (e.g. SGD), y actualizar los parámetros\n",
        "$W^{(\\ell)}$ en la dirección negativa de su contribución al error $\\partial L / \\partial W^{(\\ell)}$. Moviendo los parámetros en cada iteración en la dirección\n",
        "que disminuye nuestra función de pérdida o costo $L$.\n"
      ],
      "metadata": {
        "id": "qmx-UXny1emp"
      }
    },
    {
      "cell_type": "markdown",
      "metadata": {
        "id": "ocS_vQhR1gcU"
      },
      "source": [
        "## **Preguntas prácticas 💻 (3 puntos).** ##"
      ]
    },
    {
      "cell_type": "markdown",
      "source": [
        "### Parte 3 A (1 Punto): Word Contex Matrix"
      ],
      "metadata": {
        "id": "D0wk5GBkSE73"
      }
    },
    {
      "cell_type": "markdown",
      "source": [
        "\n",
        "\n",
        "En esta parte debe crear una matriz palabra contexto, para esto, complete el siguiente template (para esta parte puede utilizar las librerías ```numpy``` y/o ```scipy```). Hint: revise como utilizar matrices sparse de ```scipy```\n",
        "\n",
        "```python\n",
        "class WordContextMatrix:\n",
        "\n",
        "  def __init__(self, vocab_size, window_size, dataset, tokenizer):\n",
        "    \"\"\"\n",
        "    Utilice el constructor para definir los parametros.\n",
        "    \"\"\"\n",
        "\n",
        "    # se sugiere agregar un una estructura de datos para guardar las\n",
        "    # palabras del vocab y para guardar el conteo de coocurrencia\n",
        "    # si lo necesita puede agregar más parametros pero no puede cambiar el resto\n",
        "    ...\n",
        "    \n",
        "  def build_vocab(self, word):\n",
        "    \"\"\"\n",
        "    Utilice este método para construir el vocabulario\n",
        "    \"\"\"\n",
        "    \n",
        "\n",
        "    # Le puede ser útil considerar un token unk al vocab\n",
        "    # para palabras fuera del vocab\n",
        "    ...\n",
        "  \n",
        "  def build_matrix(self):\n",
        "    \"\"\"\n",
        "    Utilice este método para crear la palabra contexto\n",
        "    \"\"\"\n",
        "    ...\n",
        "\n",
        "  def get_matrix(self):\n",
        "    \"\"\"\n",
        "    Utilice este método para obtener la matriz palabra contexto. \n",
        "    \"\"\"\n",
        "\n",
        "    # se recomienda transformar la matrix a un diccionario de embedding.\n",
        "    # por ejemplo {palabra1:vec1, palabra2:vec2, ...}\n",
        "    ...\n",
        "\n",
        "```\n",
        "\n",
        "puede modificar los parámetros o métodos si lo considera necesario. Para probar la matrix puede utilizar el siguiente corpus.\n",
        "\n",
        "```python\n",
        "corpus = [\n",
        "  \"I like deep learning.\",\n",
        "  \"I like NLP.\",\n",
        "  \"I enjoy flying.\"\n",
        "]\n",
        "```\n",
        "\n",
        "Obteniendo una matriz parecia a esta:\n",
        "\n",
        "***Resultado esperado***: \n",
        "\n",
        "| counts   | I  | like | enjoy | deep | learning | NLP | flying | . |   \n",
        "|----------|---:|-----:|------:|-----:|---------:|----:|-------:|--:|\n",
        "| I        | 0  |  2   |  1    |    0 |  0       |   0 | 0      | 0|            \n",
        "| like     |  2 |    0 |  0    |    1 |  0       |   1 | 0      | 0 | \n",
        "| enjoy    |  1 |    0 |  0    |    0 |  0       |   0 | 1      | 0 |\n",
        "| deep     |  0 |    1 |  0    |    0 |  1       |   0 | 0      | 0 |  \n",
        "| learning |  0 |    0 |  0    |    1 |  0       |   0 | 0      | 1 |          \n",
        "| NLP      |  0 |    1 |  0    |    0 |  0       |   0 | 0      | 1 |\n",
        "| flying   |  0 |    0 |  1    |    0 |  0       |   0 | 0      | 1 | \n",
        "| .        |  0 |    0 |  0    |    0 |  1       |   1 | 1      | 0 | \n",
        "\n",
        "``\n",
        "\n",
        "Verifique si su matrix es igual a esta utilizando el corpus de ejemplo. Ojo que este es sólo un ejemplo, su algoritmo debe **generalizar** a otros ejemplos."
      ],
      "metadata": {
        "id": "e_mh12Z9SF-J"
      }
    },
    {
      "cell_type": "code",
      "source": [
        "# Cristóbal: mejorar las siguientes cosas acá\n",
        "#   TODO:\n",
        "#     - Inicialización de la clase \n",
        "#     - Agregar más test con assert\n",
        "#     - Incluir parte de progamación defensiva para cambiar palabras\n",
        "#       de texto que no se encuentran en corpus por token especial \"unk\"\n",
        "import re \n",
        "import pandas as pd\n",
        "import numpy as np\n",
        "import nltk\n",
        "from nltk.tokenize import word_tokenize\n",
        "nltk.download('punkt')\n",
        "\n",
        "class WordContextMatrix:\n",
        "\n",
        "  def __init__(self, vocab_size, window_size, dataset, tokenizer):\n",
        "    \"\"\"\n",
        "    Utilice el constructor para definir los parametros.\n",
        "    \"\"\"\n",
        "    # se sugiere agregar un una estructura de datos para guardar las\n",
        "    # palabras del vocab y para guardar el conteo de coocurrencia\n",
        "    # si lo necesita puede agregar más parametros pero no puede cambiar el resto\n",
        "    self.vocab = None\n",
        "    self.vocab_size = vocab_size\n",
        "    self.window_size = window_size\n",
        "    self.corpus = dataset\n",
        "    self.M = None\n",
        "\n",
        "    self.tokenizer = tokenizer\n",
        "    # separar punto de las palabras al final de las oraciones (i.e. learning. -> learning .)\n",
        "    # aprovechar de crear una lista de lista para tener nocion de documento\n",
        "    # necesario para contar a nivel de ventana\n",
        "    self.corpus = [self.tokenizer(s) for s in self.corpus]\n",
        "\n",
        "    \n",
        "  def build_vocab(self, word=None, return_vocab=False):\n",
        "    \"\"\"\n",
        "    Utilice este método para construir el vocabulario\n",
        "    \"\"\"\n",
        "    # Construir vocabulario y actualizar largo del vocabulario\n",
        "    #self.vocab = sorted(list(set([word for doc in self.corpus for word in doc[0].split()])))\n",
        "    word_freq = {}\n",
        "\n",
        "    for doc in self.corpus:\n",
        "      for t in doc:\n",
        "        if t in word_freq:\n",
        "          word_freq[t] += 1\n",
        "        else:\n",
        "          word_freq[t] = 1\n",
        "\n",
        "    # Se ordena tokens según su frecuencia\n",
        "    sorted_freq = sorted(word_freq.items(), key=lambda x: x[1], reverse=True)\n",
        "    print(sorted_freq)\n",
        "\n",
        "    # Se actualiza vocab size / tokens a seleccionar para vocab\n",
        "    if self.vocab_size is None or len(sorted_freq) < self.vocab_size:\n",
        "      self.vocab_size = len(sorted_freq)\n",
        "\n",
        "    elif len(sorted_freq) >= self.vocab_size:\n",
        "      sorted_freq = sorted_freq[:self.vocab_size]\n",
        "\n",
        "    self.vocab = [tf[0] for tf in sorted_freq]\n",
        "    print(self.vocab)\n",
        "\n",
        "    # Le puede ser útil considerar un token <unk> al vocab\n",
        "    # para palabras fuera del vocab\n",
        "    self.vocab.append('<unk>')\n",
        "    self.vocab_size += 1\n",
        "\n",
        "    # Crear diccionario para mapear palabras a indices\n",
        "    self.word2idx = {w:i for i, w in enumerate(self.vocab)}\n",
        "\n",
        "    if return_vocab:\n",
        "      return self.vocab, self.vocab_size\n",
        "\n",
        "  \n",
        "  def build_matrix(self):\n",
        "    \"\"\"\n",
        "    Utilice este método para crear la palabra contexto\n",
        "    \"\"\"\n",
        "    if self.vocab is None:\n",
        "      self.build_vocab()\n",
        "\n",
        "    # Crear matriz de contexto \n",
        "    self.M = np.zeros((self.vocab_size, self.vocab_size), dtype=np.int32)\n",
        "\n",
        "    for doc in self.corpus:\n",
        "      # representar cada documento en corpus según su índice en vocabulario -> word-to-index (wtoi)\n",
        "\n",
        "      wtoi = [\n",
        "          # Cuando self.vocab_size es < a #tokens corpus, se presentan unk\n",
        "          self.word2idx.get(w, self.word2idx.get(\"<unk>\"))\n",
        "          for w in doc\n",
        "      ]\n",
        "\n",
        "      # iterar por el contenido de cada documento\n",
        "      for idx, c in enumerate(wtoi):\n",
        "        # c: indice de la palabra que consideramos como centro\n",
        "        left_idx = idx - self.window_size if idx >= self.window_size else 0\n",
        "        right_idx = len(wtoi) if (idx + self.window_size+1) > len(wtoi) else idx + self.window_size+1\n",
        "\n",
        "        # capturamos las palabras outside a considerar como contexto\n",
        "        outside = wtoi[left_idx:idx] + wtoi[idx + 1:right_idx]  \n",
        "\n",
        "        # o: indices de palabras como contexto a considerar \"afuera\" (outside),\n",
        "        #    según el tamaño de la ventana a considerar \n",
        "        for o in outside:\n",
        "          self.M[c, o] += 1\n",
        "    \n",
        "\n",
        "  def get_matrix(self):\n",
        "    \"\"\"\n",
        "    Utilice este método para obtener la matriz palabra contexto. \n",
        "    \"\"\"\n",
        "\n",
        "    # se recomienda transformar la matrix a un diccionario de embedding.\n",
        "    # por ejemplo {palabra1:vec1, palabra2:vec2, ...}\n",
        "    return pd.DataFrame(\n",
        "        self.M, index=self.word2idx.keys(), columns=self.word2idx.keys()\n",
        "    ).to_dict()"
      ],
      "metadata": {
        "id": "Gc2kCW0u560p",
        "colab": {
          "base_uri": "https://localhost:8080/"
        },
        "outputId": "b08e4829-abf7-4eaa-a97d-2a72e3fa0271"
      },
      "execution_count": null,
      "outputs": [
        {
          "output_type": "stream",
          "name": "stderr",
          "text": [
            "[nltk_data] Downloading package punkt to /root/nltk_data...\n",
            "[nltk_data]   Package punkt is already up-to-date!\n"
          ]
        }
      ]
    },
    {
      "cell_type": "code",
      "source": [
        "corpus = [\n",
        "  \"I like deep learning.\",\n",
        "  \"I like NLP.\",\n",
        "  \"I enjoy flying.\"\n",
        "]\n",
        "\n",
        "context_matrix = WordContextMatrix(3, 1, corpus, word_tokenize)\n",
        "context_matrix.build_matrix()\n",
        "pd.DataFrame(context_matrix.get_matrix())"
      ],
      "metadata": {
        "colab": {
          "base_uri": "https://localhost:8080/",
          "height": 210
        },
        "id": "9Vi6JY7K8S81",
        "outputId": "dd7ab71f-2296-4903-a6e2-dba7dcb1cfa2"
      },
      "execution_count": null,
      "outputs": [
        {
          "output_type": "stream",
          "name": "stdout",
          "text": [
            "[('I', 3), ('.', 3), ('like', 2), ('deep', 1), ('learning', 1), ('NLP', 1), ('enjoy', 1), ('flying', 1)]\n",
            "['I', '.', 'like']\n"
          ]
        },
        {
          "output_type": "execute_result",
          "data": {
            "text/plain": [
              "       I  .  like  <unk>\n",
              "I      0  0     2      1\n",
              ".      0  0     0      3\n",
              "like   2  0     0      2\n",
              "<unk>  1  3     2      4"
            ],
            "text/html": [
              "\n",
              "  <div id=\"df-bc87f5a5-52a9-457a-8534-fc0b86f66060\">\n",
              "    <div class=\"colab-df-container\">\n",
              "      <div>\n",
              "<style scoped>\n",
              "    .dataframe tbody tr th:only-of-type {\n",
              "        vertical-align: middle;\n",
              "    }\n",
              "\n",
              "    .dataframe tbody tr th {\n",
              "        vertical-align: top;\n",
              "    }\n",
              "\n",
              "    .dataframe thead th {\n",
              "        text-align: right;\n",
              "    }\n",
              "</style>\n",
              "<table border=\"1\" class=\"dataframe\">\n",
              "  <thead>\n",
              "    <tr style=\"text-align: right;\">\n",
              "      <th></th>\n",
              "      <th>I</th>\n",
              "      <th>.</th>\n",
              "      <th>like</th>\n",
              "      <th>&lt;unk&gt;</th>\n",
              "    </tr>\n",
              "  </thead>\n",
              "  <tbody>\n",
              "    <tr>\n",
              "      <th>I</th>\n",
              "      <td>0</td>\n",
              "      <td>0</td>\n",
              "      <td>2</td>\n",
              "      <td>1</td>\n",
              "    </tr>\n",
              "    <tr>\n",
              "      <th>.</th>\n",
              "      <td>0</td>\n",
              "      <td>0</td>\n",
              "      <td>0</td>\n",
              "      <td>3</td>\n",
              "    </tr>\n",
              "    <tr>\n",
              "      <th>like</th>\n",
              "      <td>2</td>\n",
              "      <td>0</td>\n",
              "      <td>0</td>\n",
              "      <td>2</td>\n",
              "    </tr>\n",
              "    <tr>\n",
              "      <th>&lt;unk&gt;</th>\n",
              "      <td>1</td>\n",
              "      <td>3</td>\n",
              "      <td>2</td>\n",
              "      <td>4</td>\n",
              "    </tr>\n",
              "  </tbody>\n",
              "</table>\n",
              "</div>\n",
              "      <button class=\"colab-df-convert\" onclick=\"convertToInteractive('df-bc87f5a5-52a9-457a-8534-fc0b86f66060')\"\n",
              "              title=\"Convert this dataframe to an interactive table.\"\n",
              "              style=\"display:none;\">\n",
              "        \n",
              "  <svg xmlns=\"http://www.w3.org/2000/svg\" height=\"24px\"viewBox=\"0 0 24 24\"\n",
              "       width=\"24px\">\n",
              "    <path d=\"M0 0h24v24H0V0z\" fill=\"none\"/>\n",
              "    <path d=\"M18.56 5.44l.94 2.06.94-2.06 2.06-.94-2.06-.94-.94-2.06-.94 2.06-2.06.94zm-11 1L8.5 8.5l.94-2.06 2.06-.94-2.06-.94L8.5 2.5l-.94 2.06-2.06.94zm10 10l.94 2.06.94-2.06 2.06-.94-2.06-.94-.94-2.06-.94 2.06-2.06.94z\"/><path d=\"M17.41 7.96l-1.37-1.37c-.4-.4-.92-.59-1.43-.59-.52 0-1.04.2-1.43.59L10.3 9.45l-7.72 7.72c-.78.78-.78 2.05 0 2.83L4 21.41c.39.39.9.59 1.41.59.51 0 1.02-.2 1.41-.59l7.78-7.78 2.81-2.81c.8-.78.8-2.07 0-2.86zM5.41 20L4 18.59l7.72-7.72 1.47 1.35L5.41 20z\"/>\n",
              "  </svg>\n",
              "      </button>\n",
              "      \n",
              "  <style>\n",
              "    .colab-df-container {\n",
              "      display:flex;\n",
              "      flex-wrap:wrap;\n",
              "      gap: 12px;\n",
              "    }\n",
              "\n",
              "    .colab-df-convert {\n",
              "      background-color: #E8F0FE;\n",
              "      border: none;\n",
              "      border-radius: 50%;\n",
              "      cursor: pointer;\n",
              "      display: none;\n",
              "      fill: #1967D2;\n",
              "      height: 32px;\n",
              "      padding: 0 0 0 0;\n",
              "      width: 32px;\n",
              "    }\n",
              "\n",
              "    .colab-df-convert:hover {\n",
              "      background-color: #E2EBFA;\n",
              "      box-shadow: 0px 1px 2px rgba(60, 64, 67, 0.3), 0px 1px 3px 1px rgba(60, 64, 67, 0.15);\n",
              "      fill: #174EA6;\n",
              "    }\n",
              "\n",
              "    [theme=dark] .colab-df-convert {\n",
              "      background-color: #3B4455;\n",
              "      fill: #D2E3FC;\n",
              "    }\n",
              "\n",
              "    [theme=dark] .colab-df-convert:hover {\n",
              "      background-color: #434B5C;\n",
              "      box-shadow: 0px 1px 3px 1px rgba(0, 0, 0, 0.15);\n",
              "      filter: drop-shadow(0px 1px 2px rgba(0, 0, 0, 0.3));\n",
              "      fill: #FFFFFF;\n",
              "    }\n",
              "  </style>\n",
              "\n",
              "      <script>\n",
              "        const buttonEl =\n",
              "          document.querySelector('#df-bc87f5a5-52a9-457a-8534-fc0b86f66060 button.colab-df-convert');\n",
              "        buttonEl.style.display =\n",
              "          google.colab.kernel.accessAllowed ? 'block' : 'none';\n",
              "\n",
              "        async function convertToInteractive(key) {\n",
              "          const element = document.querySelector('#df-bc87f5a5-52a9-457a-8534-fc0b86f66060');\n",
              "          const dataTable =\n",
              "            await google.colab.kernel.invokeFunction('convertToInteractive',\n",
              "                                                     [key], {});\n",
              "          if (!dataTable) return;\n",
              "\n",
              "          const docLinkHtml = 'Like what you see? Visit the ' +\n",
              "            '<a target=\"_blank\" href=https://colab.research.google.com/notebooks/data_table.ipynb>data table notebook</a>'\n",
              "            + ' to learn more about interactive tables.';\n",
              "          element.innerHTML = '';\n",
              "          dataTable['output_type'] = 'display_data';\n",
              "          await google.colab.output.renderOutput(dataTable, element);\n",
              "          const docLink = document.createElement('div');\n",
              "          docLink.innerHTML = docLinkHtml;\n",
              "          element.appendChild(docLink);\n",
              "        }\n",
              "      </script>\n",
              "    </div>\n",
              "  </div>\n",
              "  "
            ]
          },
          "metadata": {},
          "execution_count": 31
        }
      ]
    },
    {
      "cell_type": "code",
      "source": [
        "context_matrix = WordContextMatrix(None, 1, corpus, word_tokenize)\n",
        "context_matrix.build_matrix()\n",
        "pd.DataFrame(context_matrix.get_matrix())"
      ],
      "metadata": {
        "id": "G-kcqIWCkV92",
        "outputId": "333d8e39-d1b6-422d-fa74-30a61c8da339",
        "colab": {
          "base_uri": "https://localhost:8080/",
          "height": 366
        }
      },
      "execution_count": null,
      "outputs": [
        {
          "output_type": "stream",
          "name": "stdout",
          "text": [
            "[('I', 3), ('.', 3), ('like', 2), ('deep', 1), ('learning', 1), ('NLP', 1), ('enjoy', 1), ('flying', 1)]\n",
            "['I', '.', 'like', 'deep', 'learning', 'NLP', 'enjoy', 'flying']\n"
          ]
        },
        {
          "output_type": "execute_result",
          "data": {
            "text/plain": [
              "          I  .  like  deep  learning  NLP  enjoy  flying  <unk>\n",
              "I         0  0     2     0         0    0      1       0      0\n",
              ".         0  0     0     0         1    1      0       1      0\n",
              "like      2  0     0     1         0    1      0       0      0\n",
              "deep      0  0     1     0         1    0      0       0      0\n",
              "learning  0  1     0     1         0    0      0       0      0\n",
              "NLP       0  1     1     0         0    0      0       0      0\n",
              "enjoy     1  0     0     0         0    0      0       1      0\n",
              "flying    0  1     0     0         0    0      1       0      0\n",
              "<unk>     0  0     0     0         0    0      0       0      0"
            ],
            "text/html": [
              "\n",
              "  <div id=\"df-43056503-9156-4137-90d7-a50fa11fc322\">\n",
              "    <div class=\"colab-df-container\">\n",
              "      <div>\n",
              "<style scoped>\n",
              "    .dataframe tbody tr th:only-of-type {\n",
              "        vertical-align: middle;\n",
              "    }\n",
              "\n",
              "    .dataframe tbody tr th {\n",
              "        vertical-align: top;\n",
              "    }\n",
              "\n",
              "    .dataframe thead th {\n",
              "        text-align: right;\n",
              "    }\n",
              "</style>\n",
              "<table border=\"1\" class=\"dataframe\">\n",
              "  <thead>\n",
              "    <tr style=\"text-align: right;\">\n",
              "      <th></th>\n",
              "      <th>I</th>\n",
              "      <th>.</th>\n",
              "      <th>like</th>\n",
              "      <th>deep</th>\n",
              "      <th>learning</th>\n",
              "      <th>NLP</th>\n",
              "      <th>enjoy</th>\n",
              "      <th>flying</th>\n",
              "      <th>&lt;unk&gt;</th>\n",
              "    </tr>\n",
              "  </thead>\n",
              "  <tbody>\n",
              "    <tr>\n",
              "      <th>I</th>\n",
              "      <td>0</td>\n",
              "      <td>0</td>\n",
              "      <td>2</td>\n",
              "      <td>0</td>\n",
              "      <td>0</td>\n",
              "      <td>0</td>\n",
              "      <td>1</td>\n",
              "      <td>0</td>\n",
              "      <td>0</td>\n",
              "    </tr>\n",
              "    <tr>\n",
              "      <th>.</th>\n",
              "      <td>0</td>\n",
              "      <td>0</td>\n",
              "      <td>0</td>\n",
              "      <td>0</td>\n",
              "      <td>1</td>\n",
              "      <td>1</td>\n",
              "      <td>0</td>\n",
              "      <td>1</td>\n",
              "      <td>0</td>\n",
              "    </tr>\n",
              "    <tr>\n",
              "      <th>like</th>\n",
              "      <td>2</td>\n",
              "      <td>0</td>\n",
              "      <td>0</td>\n",
              "      <td>1</td>\n",
              "      <td>0</td>\n",
              "      <td>1</td>\n",
              "      <td>0</td>\n",
              "      <td>0</td>\n",
              "      <td>0</td>\n",
              "    </tr>\n",
              "    <tr>\n",
              "      <th>deep</th>\n",
              "      <td>0</td>\n",
              "      <td>0</td>\n",
              "      <td>1</td>\n",
              "      <td>0</td>\n",
              "      <td>1</td>\n",
              "      <td>0</td>\n",
              "      <td>0</td>\n",
              "      <td>0</td>\n",
              "      <td>0</td>\n",
              "    </tr>\n",
              "    <tr>\n",
              "      <th>learning</th>\n",
              "      <td>0</td>\n",
              "      <td>1</td>\n",
              "      <td>0</td>\n",
              "      <td>1</td>\n",
              "      <td>0</td>\n",
              "      <td>0</td>\n",
              "      <td>0</td>\n",
              "      <td>0</td>\n",
              "      <td>0</td>\n",
              "    </tr>\n",
              "    <tr>\n",
              "      <th>NLP</th>\n",
              "      <td>0</td>\n",
              "      <td>1</td>\n",
              "      <td>1</td>\n",
              "      <td>0</td>\n",
              "      <td>0</td>\n",
              "      <td>0</td>\n",
              "      <td>0</td>\n",
              "      <td>0</td>\n",
              "      <td>0</td>\n",
              "    </tr>\n",
              "    <tr>\n",
              "      <th>enjoy</th>\n",
              "      <td>1</td>\n",
              "      <td>0</td>\n",
              "      <td>0</td>\n",
              "      <td>0</td>\n",
              "      <td>0</td>\n",
              "      <td>0</td>\n",
              "      <td>0</td>\n",
              "      <td>1</td>\n",
              "      <td>0</td>\n",
              "    </tr>\n",
              "    <tr>\n",
              "      <th>flying</th>\n",
              "      <td>0</td>\n",
              "      <td>1</td>\n",
              "      <td>0</td>\n",
              "      <td>0</td>\n",
              "      <td>0</td>\n",
              "      <td>0</td>\n",
              "      <td>1</td>\n",
              "      <td>0</td>\n",
              "      <td>0</td>\n",
              "    </tr>\n",
              "    <tr>\n",
              "      <th>&lt;unk&gt;</th>\n",
              "      <td>0</td>\n",
              "      <td>0</td>\n",
              "      <td>0</td>\n",
              "      <td>0</td>\n",
              "      <td>0</td>\n",
              "      <td>0</td>\n",
              "      <td>0</td>\n",
              "      <td>0</td>\n",
              "      <td>0</td>\n",
              "    </tr>\n",
              "  </tbody>\n",
              "</table>\n",
              "</div>\n",
              "      <button class=\"colab-df-convert\" onclick=\"convertToInteractive('df-43056503-9156-4137-90d7-a50fa11fc322')\"\n",
              "              title=\"Convert this dataframe to an interactive table.\"\n",
              "              style=\"display:none;\">\n",
              "        \n",
              "  <svg xmlns=\"http://www.w3.org/2000/svg\" height=\"24px\"viewBox=\"0 0 24 24\"\n",
              "       width=\"24px\">\n",
              "    <path d=\"M0 0h24v24H0V0z\" fill=\"none\"/>\n",
              "    <path d=\"M18.56 5.44l.94 2.06.94-2.06 2.06-.94-2.06-.94-.94-2.06-.94 2.06-2.06.94zm-11 1L8.5 8.5l.94-2.06 2.06-.94-2.06-.94L8.5 2.5l-.94 2.06-2.06.94zm10 10l.94 2.06.94-2.06 2.06-.94-2.06-.94-.94-2.06-.94 2.06-2.06.94z\"/><path d=\"M17.41 7.96l-1.37-1.37c-.4-.4-.92-.59-1.43-.59-.52 0-1.04.2-1.43.59L10.3 9.45l-7.72 7.72c-.78.78-.78 2.05 0 2.83L4 21.41c.39.39.9.59 1.41.59.51 0 1.02-.2 1.41-.59l7.78-7.78 2.81-2.81c.8-.78.8-2.07 0-2.86zM5.41 20L4 18.59l7.72-7.72 1.47 1.35L5.41 20z\"/>\n",
              "  </svg>\n",
              "      </button>\n",
              "      \n",
              "  <style>\n",
              "    .colab-df-container {\n",
              "      display:flex;\n",
              "      flex-wrap:wrap;\n",
              "      gap: 12px;\n",
              "    }\n",
              "\n",
              "    .colab-df-convert {\n",
              "      background-color: #E8F0FE;\n",
              "      border: none;\n",
              "      border-radius: 50%;\n",
              "      cursor: pointer;\n",
              "      display: none;\n",
              "      fill: #1967D2;\n",
              "      height: 32px;\n",
              "      padding: 0 0 0 0;\n",
              "      width: 32px;\n",
              "    }\n",
              "\n",
              "    .colab-df-convert:hover {\n",
              "      background-color: #E2EBFA;\n",
              "      box-shadow: 0px 1px 2px rgba(60, 64, 67, 0.3), 0px 1px 3px 1px rgba(60, 64, 67, 0.15);\n",
              "      fill: #174EA6;\n",
              "    }\n",
              "\n",
              "    [theme=dark] .colab-df-convert {\n",
              "      background-color: #3B4455;\n",
              "      fill: #D2E3FC;\n",
              "    }\n",
              "\n",
              "    [theme=dark] .colab-df-convert:hover {\n",
              "      background-color: #434B5C;\n",
              "      box-shadow: 0px 1px 3px 1px rgba(0, 0, 0, 0.15);\n",
              "      filter: drop-shadow(0px 1px 2px rgba(0, 0, 0, 0.3));\n",
              "      fill: #FFFFFF;\n",
              "    }\n",
              "  </style>\n",
              "\n",
              "      <script>\n",
              "        const buttonEl =\n",
              "          document.querySelector('#df-43056503-9156-4137-90d7-a50fa11fc322 button.colab-df-convert');\n",
              "        buttonEl.style.display =\n",
              "          google.colab.kernel.accessAllowed ? 'block' : 'none';\n",
              "\n",
              "        async function convertToInteractive(key) {\n",
              "          const element = document.querySelector('#df-43056503-9156-4137-90d7-a50fa11fc322');\n",
              "          const dataTable =\n",
              "            await google.colab.kernel.invokeFunction('convertToInteractive',\n",
              "                                                     [key], {});\n",
              "          if (!dataTable) return;\n",
              "\n",
              "          const docLinkHtml = 'Like what you see? Visit the ' +\n",
              "            '<a target=\"_blank\" href=https://colab.research.google.com/notebooks/data_table.ipynb>data table notebook</a>'\n",
              "            + ' to learn more about interactive tables.';\n",
              "          element.innerHTML = '';\n",
              "          dataTable['output_type'] = 'display_data';\n",
              "          await google.colab.output.renderOutput(dataTable, element);\n",
              "          const docLink = document.createElement('div');\n",
              "          docLink.innerHTML = docLinkHtml;\n",
              "          element.appendChild(docLink);\n",
              "        }\n",
              "      </script>\n",
              "    </div>\n",
              "  </div>\n",
              "  "
            ]
          },
          "metadata": {},
          "execution_count": 32
        }
      ]
    },
    {
      "cell_type": "code",
      "source": [
        "context_matrix = WordContextMatrix(10, 1, corpus, word_tokenize)\n",
        "context_matrix.build_matrix()\n",
        "pd.DataFrame(context_matrix.get_matrix())"
      ],
      "metadata": {
        "id": "u1nu-iozkX33",
        "outputId": "cfadcc92-ba7b-41e0-8625-d6c731ef25ae",
        "colab": {
          "base_uri": "https://localhost:8080/",
          "height": 366
        }
      },
      "execution_count": null,
      "outputs": [
        {
          "output_type": "stream",
          "name": "stdout",
          "text": [
            "[('I', 3), ('.', 3), ('like', 2), ('deep', 1), ('learning', 1), ('NLP', 1), ('enjoy', 1), ('flying', 1)]\n",
            "['I', '.', 'like', 'deep', 'learning', 'NLP', 'enjoy', 'flying']\n"
          ]
        },
        {
          "output_type": "execute_result",
          "data": {
            "text/plain": [
              "          I  .  like  deep  learning  NLP  enjoy  flying  <unk>\n",
              "I         0  0     2     0         0    0      1       0      0\n",
              ".         0  0     0     0         1    1      0       1      0\n",
              "like      2  0     0     1         0    1      0       0      0\n",
              "deep      0  0     1     0         1    0      0       0      0\n",
              "learning  0  1     0     1         0    0      0       0      0\n",
              "NLP       0  1     1     0         0    0      0       0      0\n",
              "enjoy     1  0     0     0         0    0      0       1      0\n",
              "flying    0  1     0     0         0    0      1       0      0\n",
              "<unk>     0  0     0     0         0    0      0       0      0"
            ],
            "text/html": [
              "\n",
              "  <div id=\"df-23085f55-f283-4c91-9648-e6f19be1ec88\">\n",
              "    <div class=\"colab-df-container\">\n",
              "      <div>\n",
              "<style scoped>\n",
              "    .dataframe tbody tr th:only-of-type {\n",
              "        vertical-align: middle;\n",
              "    }\n",
              "\n",
              "    .dataframe tbody tr th {\n",
              "        vertical-align: top;\n",
              "    }\n",
              "\n",
              "    .dataframe thead th {\n",
              "        text-align: right;\n",
              "    }\n",
              "</style>\n",
              "<table border=\"1\" class=\"dataframe\">\n",
              "  <thead>\n",
              "    <tr style=\"text-align: right;\">\n",
              "      <th></th>\n",
              "      <th>I</th>\n",
              "      <th>.</th>\n",
              "      <th>like</th>\n",
              "      <th>deep</th>\n",
              "      <th>learning</th>\n",
              "      <th>NLP</th>\n",
              "      <th>enjoy</th>\n",
              "      <th>flying</th>\n",
              "      <th>&lt;unk&gt;</th>\n",
              "    </tr>\n",
              "  </thead>\n",
              "  <tbody>\n",
              "    <tr>\n",
              "      <th>I</th>\n",
              "      <td>0</td>\n",
              "      <td>0</td>\n",
              "      <td>2</td>\n",
              "      <td>0</td>\n",
              "      <td>0</td>\n",
              "      <td>0</td>\n",
              "      <td>1</td>\n",
              "      <td>0</td>\n",
              "      <td>0</td>\n",
              "    </tr>\n",
              "    <tr>\n",
              "      <th>.</th>\n",
              "      <td>0</td>\n",
              "      <td>0</td>\n",
              "      <td>0</td>\n",
              "      <td>0</td>\n",
              "      <td>1</td>\n",
              "      <td>1</td>\n",
              "      <td>0</td>\n",
              "      <td>1</td>\n",
              "      <td>0</td>\n",
              "    </tr>\n",
              "    <tr>\n",
              "      <th>like</th>\n",
              "      <td>2</td>\n",
              "      <td>0</td>\n",
              "      <td>0</td>\n",
              "      <td>1</td>\n",
              "      <td>0</td>\n",
              "      <td>1</td>\n",
              "      <td>0</td>\n",
              "      <td>0</td>\n",
              "      <td>0</td>\n",
              "    </tr>\n",
              "    <tr>\n",
              "      <th>deep</th>\n",
              "      <td>0</td>\n",
              "      <td>0</td>\n",
              "      <td>1</td>\n",
              "      <td>0</td>\n",
              "      <td>1</td>\n",
              "      <td>0</td>\n",
              "      <td>0</td>\n",
              "      <td>0</td>\n",
              "      <td>0</td>\n",
              "    </tr>\n",
              "    <tr>\n",
              "      <th>learning</th>\n",
              "      <td>0</td>\n",
              "      <td>1</td>\n",
              "      <td>0</td>\n",
              "      <td>1</td>\n",
              "      <td>0</td>\n",
              "      <td>0</td>\n",
              "      <td>0</td>\n",
              "      <td>0</td>\n",
              "      <td>0</td>\n",
              "    </tr>\n",
              "    <tr>\n",
              "      <th>NLP</th>\n",
              "      <td>0</td>\n",
              "      <td>1</td>\n",
              "      <td>1</td>\n",
              "      <td>0</td>\n",
              "      <td>0</td>\n",
              "      <td>0</td>\n",
              "      <td>0</td>\n",
              "      <td>0</td>\n",
              "      <td>0</td>\n",
              "    </tr>\n",
              "    <tr>\n",
              "      <th>enjoy</th>\n",
              "      <td>1</td>\n",
              "      <td>0</td>\n",
              "      <td>0</td>\n",
              "      <td>0</td>\n",
              "      <td>0</td>\n",
              "      <td>0</td>\n",
              "      <td>0</td>\n",
              "      <td>1</td>\n",
              "      <td>0</td>\n",
              "    </tr>\n",
              "    <tr>\n",
              "      <th>flying</th>\n",
              "      <td>0</td>\n",
              "      <td>1</td>\n",
              "      <td>0</td>\n",
              "      <td>0</td>\n",
              "      <td>0</td>\n",
              "      <td>0</td>\n",
              "      <td>1</td>\n",
              "      <td>0</td>\n",
              "      <td>0</td>\n",
              "    </tr>\n",
              "    <tr>\n",
              "      <th>&lt;unk&gt;</th>\n",
              "      <td>0</td>\n",
              "      <td>0</td>\n",
              "      <td>0</td>\n",
              "      <td>0</td>\n",
              "      <td>0</td>\n",
              "      <td>0</td>\n",
              "      <td>0</td>\n",
              "      <td>0</td>\n",
              "      <td>0</td>\n",
              "    </tr>\n",
              "  </tbody>\n",
              "</table>\n",
              "</div>\n",
              "      <button class=\"colab-df-convert\" onclick=\"convertToInteractive('df-23085f55-f283-4c91-9648-e6f19be1ec88')\"\n",
              "              title=\"Convert this dataframe to an interactive table.\"\n",
              "              style=\"display:none;\">\n",
              "        \n",
              "  <svg xmlns=\"http://www.w3.org/2000/svg\" height=\"24px\"viewBox=\"0 0 24 24\"\n",
              "       width=\"24px\">\n",
              "    <path d=\"M0 0h24v24H0V0z\" fill=\"none\"/>\n",
              "    <path d=\"M18.56 5.44l.94 2.06.94-2.06 2.06-.94-2.06-.94-.94-2.06-.94 2.06-2.06.94zm-11 1L8.5 8.5l.94-2.06 2.06-.94-2.06-.94L8.5 2.5l-.94 2.06-2.06.94zm10 10l.94 2.06.94-2.06 2.06-.94-2.06-.94-.94-2.06-.94 2.06-2.06.94z\"/><path d=\"M17.41 7.96l-1.37-1.37c-.4-.4-.92-.59-1.43-.59-.52 0-1.04.2-1.43.59L10.3 9.45l-7.72 7.72c-.78.78-.78 2.05 0 2.83L4 21.41c.39.39.9.59 1.41.59.51 0 1.02-.2 1.41-.59l7.78-7.78 2.81-2.81c.8-.78.8-2.07 0-2.86zM5.41 20L4 18.59l7.72-7.72 1.47 1.35L5.41 20z\"/>\n",
              "  </svg>\n",
              "      </button>\n",
              "      \n",
              "  <style>\n",
              "    .colab-df-container {\n",
              "      display:flex;\n",
              "      flex-wrap:wrap;\n",
              "      gap: 12px;\n",
              "    }\n",
              "\n",
              "    .colab-df-convert {\n",
              "      background-color: #E8F0FE;\n",
              "      border: none;\n",
              "      border-radius: 50%;\n",
              "      cursor: pointer;\n",
              "      display: none;\n",
              "      fill: #1967D2;\n",
              "      height: 32px;\n",
              "      padding: 0 0 0 0;\n",
              "      width: 32px;\n",
              "    }\n",
              "\n",
              "    .colab-df-convert:hover {\n",
              "      background-color: #E2EBFA;\n",
              "      box-shadow: 0px 1px 2px rgba(60, 64, 67, 0.3), 0px 1px 3px 1px rgba(60, 64, 67, 0.15);\n",
              "      fill: #174EA6;\n",
              "    }\n",
              "\n",
              "    [theme=dark] .colab-df-convert {\n",
              "      background-color: #3B4455;\n",
              "      fill: #D2E3FC;\n",
              "    }\n",
              "\n",
              "    [theme=dark] .colab-df-convert:hover {\n",
              "      background-color: #434B5C;\n",
              "      box-shadow: 0px 1px 3px 1px rgba(0, 0, 0, 0.15);\n",
              "      filter: drop-shadow(0px 1px 2px rgba(0, 0, 0, 0.3));\n",
              "      fill: #FFFFFF;\n",
              "    }\n",
              "  </style>\n",
              "\n",
              "      <script>\n",
              "        const buttonEl =\n",
              "          document.querySelector('#df-23085f55-f283-4c91-9648-e6f19be1ec88 button.colab-df-convert');\n",
              "        buttonEl.style.display =\n",
              "          google.colab.kernel.accessAllowed ? 'block' : 'none';\n",
              "\n",
              "        async function convertToInteractive(key) {\n",
              "          const element = document.querySelector('#df-23085f55-f283-4c91-9648-e6f19be1ec88');\n",
              "          const dataTable =\n",
              "            await google.colab.kernel.invokeFunction('convertToInteractive',\n",
              "                                                     [key], {});\n",
              "          if (!dataTable) return;\n",
              "\n",
              "          const docLinkHtml = 'Like what you see? Visit the ' +\n",
              "            '<a target=\"_blank\" href=https://colab.research.google.com/notebooks/data_table.ipynb>data table notebook</a>'\n",
              "            + ' to learn more about interactive tables.';\n",
              "          element.innerHTML = '';\n",
              "          dataTable['output_type'] = 'display_data';\n",
              "          await google.colab.output.renderOutput(dataTable, element);\n",
              "          const docLink = document.createElement('div');\n",
              "          docLink.innerHTML = docLinkHtml;\n",
              "          element.appendChild(docLink);\n",
              "        }\n",
              "      </script>\n",
              "    </div>\n",
              "  </div>\n",
              "  "
            ]
          },
          "metadata": {},
          "execution_count": 33
        }
      ]
    },
    {
      "cell_type": "markdown",
      "source": [
        "***Resultado esperado***: \n",
        "\n",
        "| counts   | I  | like | enjoy | deep | learning | NLP | flying | . |   \n",
        "|----------|---:|-----:|------:|-----:|---------:|----:|-------:|--:|\n",
        "| I        | 0  |  2   |  1    |    0 |  0       |   0 | 0      | 0|            \n",
        "| like     |  2 |    0 |  0    |    1 |  0       |   1 | 0      | 0 | \n",
        "| enjoy    |  1 |    0 |  0    |    0 |  0       |   0 | 1      | 0 |\n",
        "| deep     |  0 |    1 |  0    |    0 |  1       |   0 | 0      | 0 |  \n",
        "| learning |  0 |    0 |  0    |    1 |  0       |   0 | 0      | 1 |          \n",
        "| NLP      |  0 |    1 |  0    |    0 |  0       |   0 | 0      | 1 |\n",
        "| flying   |  0 |    0 |  1    |    0 |  0       |   0 | 0      | 1 | \n",
        "| .        |  0 |    0 |  0    |    0 |  1       |   1 | 1      | 0 | \n",
        "\n",
        "``"
      ],
      "metadata": {
        "id": "Ifoj6gc1OLSP"
      }
    },
    {
      "cell_type": "markdown",
      "metadata": {
        "id": "Ol82nJ0FnmcP"
      },
      "source": [
        "### **Parte 3 B (1 Punto): Word Embeddings**"
      ]
    },
    {
      "cell_type": "markdown",
      "metadata": {
        "id": "OgmeSFqKLpFL"
      },
      "source": [
        "En la auxiliar 2 aprendieron como entrenar Word2Vec utilizando gensim. El objetivo de esta parte es comparar los embeddings obtenidos con dos modelos diferentes: Word2Vec y [FastText](https://radimrehurek.com/gensim/models/fasttext.html) (utilizen size=200 en FastText) entrenados en el mismo dataset de diálogos de los Simpson. "
      ]
    },
    {
      "cell_type": "code",
      "metadata": {
        "id": "ecCvnryeQiG7"
      },
      "source": [
        "import re  \n",
        "import pandas as pd \n",
        "from time import time  \n",
        "from collections import defaultdict \n",
        "import string \n",
        "import multiprocessing\n",
        "import os\n",
        "import gensim\n",
        "import sklearn\n",
        "from sklearn.linear_model import LogisticRegression\n",
        "from collections import Counter\n",
        "import numpy as np\n",
        "from sklearn.metrics import accuracy_score, precision_score, recall_score, f1_score, roc_auc_score, confusion_matrix, cohen_kappa_score, classification_report\n",
        "\n",
        "# word2vec\n",
        "from gensim.models import Word2Vec, KeyedVectors, FastText\n",
        "from gensim.models.phrases import Phrases, Phraser\n",
        "from sklearn.model_selection import train_test_split\n",
        "import logging\n",
        "\n",
        "logging.basicConfig(format='%(asctime)s : %(levelname)s : %(message)s', level=logging.INFO)\n",
        "logger = logging.getLogger(__name__)"
      ],
      "execution_count": null,
      "outputs": []
    },
    {
      "cell_type": "markdown",
      "metadata": {
        "id": "tZgN06q4QPi3"
      },
      "source": [
        "Utilizando el dataset adjunto con la tarea:"
      ]
    },
    {
      "cell_type": "code",
      "metadata": {
        "colab": {
          "base_uri": "https://localhost:8080/",
          "height": 112
        },
        "id": "eY3kmg4onnsu",
        "outputId": "c2b01982-9d96-40b3-d718-f11a558f40d5"
      },
      "source": [
        "df = pd.read_csv(\n",
        "    \"https://raw.githubusercontent.com/alcazar90/CC6205-NLP/main/data/simpsons_dataset.csv\"\n",
        ")\n",
        "stopwords = pd.read_csv(\n",
        "    'https://raw.githubusercontent.com/Alir3z4/stop-words/master/english.txt'\n",
        ").values\n",
        "\n",
        "stopwords = Counter(stopwords.flatten().tolist())\n",
        "df = df.dropna().reset_index(drop=True) # Quitar filas vacias\n",
        "df.head(n=2)"
      ],
      "execution_count": null,
      "outputs": [
        {
          "output_type": "execute_result",
          "data": {
            "text/plain": [
              "  raw_character_text                                       spoken_words\n",
              "0        Miss Hoover  No, actually, it was a little of both. Sometim...\n",
              "1       Lisa Simpson                             Where's Mr. Bergstrom?"
            ],
            "text/html": [
              "\n",
              "  <div id=\"df-65f164dc-e3a7-4dd0-a8c5-569e87a1701d\">\n",
              "    <div class=\"colab-df-container\">\n",
              "      <div>\n",
              "<style scoped>\n",
              "    .dataframe tbody tr th:only-of-type {\n",
              "        vertical-align: middle;\n",
              "    }\n",
              "\n",
              "    .dataframe tbody tr th {\n",
              "        vertical-align: top;\n",
              "    }\n",
              "\n",
              "    .dataframe thead th {\n",
              "        text-align: right;\n",
              "    }\n",
              "</style>\n",
              "<table border=\"1\" class=\"dataframe\">\n",
              "  <thead>\n",
              "    <tr style=\"text-align: right;\">\n",
              "      <th></th>\n",
              "      <th>raw_character_text</th>\n",
              "      <th>spoken_words</th>\n",
              "    </tr>\n",
              "  </thead>\n",
              "  <tbody>\n",
              "    <tr>\n",
              "      <th>0</th>\n",
              "      <td>Miss Hoover</td>\n",
              "      <td>No, actually, it was a little of both. Sometim...</td>\n",
              "    </tr>\n",
              "    <tr>\n",
              "      <th>1</th>\n",
              "      <td>Lisa Simpson</td>\n",
              "      <td>Where's Mr. Bergstrom?</td>\n",
              "    </tr>\n",
              "  </tbody>\n",
              "</table>\n",
              "</div>\n",
              "      <button class=\"colab-df-convert\" onclick=\"convertToInteractive('df-65f164dc-e3a7-4dd0-a8c5-569e87a1701d')\"\n",
              "              title=\"Convert this dataframe to an interactive table.\"\n",
              "              style=\"display:none;\">\n",
              "        \n",
              "  <svg xmlns=\"http://www.w3.org/2000/svg\" height=\"24px\"viewBox=\"0 0 24 24\"\n",
              "       width=\"24px\">\n",
              "    <path d=\"M0 0h24v24H0V0z\" fill=\"none\"/>\n",
              "    <path d=\"M18.56 5.44l.94 2.06.94-2.06 2.06-.94-2.06-.94-.94-2.06-.94 2.06-2.06.94zm-11 1L8.5 8.5l.94-2.06 2.06-.94-2.06-.94L8.5 2.5l-.94 2.06-2.06.94zm10 10l.94 2.06.94-2.06 2.06-.94-2.06-.94-.94-2.06-.94 2.06-2.06.94z\"/><path d=\"M17.41 7.96l-1.37-1.37c-.4-.4-.92-.59-1.43-.59-.52 0-1.04.2-1.43.59L10.3 9.45l-7.72 7.72c-.78.78-.78 2.05 0 2.83L4 21.41c.39.39.9.59 1.41.59.51 0 1.02-.2 1.41-.59l7.78-7.78 2.81-2.81c.8-.78.8-2.07 0-2.86zM5.41 20L4 18.59l7.72-7.72 1.47 1.35L5.41 20z\"/>\n",
              "  </svg>\n",
              "      </button>\n",
              "      \n",
              "  <style>\n",
              "    .colab-df-container {\n",
              "      display:flex;\n",
              "      flex-wrap:wrap;\n",
              "      gap: 12px;\n",
              "    }\n",
              "\n",
              "    .colab-df-convert {\n",
              "      background-color: #E8F0FE;\n",
              "      border: none;\n",
              "      border-radius: 50%;\n",
              "      cursor: pointer;\n",
              "      display: none;\n",
              "      fill: #1967D2;\n",
              "      height: 32px;\n",
              "      padding: 0 0 0 0;\n",
              "      width: 32px;\n",
              "    }\n",
              "\n",
              "    .colab-df-convert:hover {\n",
              "      background-color: #E2EBFA;\n",
              "      box-shadow: 0px 1px 2px rgba(60, 64, 67, 0.3), 0px 1px 3px 1px rgba(60, 64, 67, 0.15);\n",
              "      fill: #174EA6;\n",
              "    }\n",
              "\n",
              "    [theme=dark] .colab-df-convert {\n",
              "      background-color: #3B4455;\n",
              "      fill: #D2E3FC;\n",
              "    }\n",
              "\n",
              "    [theme=dark] .colab-df-convert:hover {\n",
              "      background-color: #434B5C;\n",
              "      box-shadow: 0px 1px 3px 1px rgba(0, 0, 0, 0.15);\n",
              "      filter: drop-shadow(0px 1px 2px rgba(0, 0, 0, 0.3));\n",
              "      fill: #FFFFFF;\n",
              "    }\n",
              "  </style>\n",
              "\n",
              "      <script>\n",
              "        const buttonEl =\n",
              "          document.querySelector('#df-65f164dc-e3a7-4dd0-a8c5-569e87a1701d button.colab-df-convert');\n",
              "        buttonEl.style.display =\n",
              "          google.colab.kernel.accessAllowed ? 'block' : 'none';\n",
              "\n",
              "        async function convertToInteractive(key) {\n",
              "          const element = document.querySelector('#df-65f164dc-e3a7-4dd0-a8c5-569e87a1701d');\n",
              "          const dataTable =\n",
              "            await google.colab.kernel.invokeFunction('convertToInteractive',\n",
              "                                                     [key], {});\n",
              "          if (!dataTable) return;\n",
              "\n",
              "          const docLinkHtml = 'Like what you see? Visit the ' +\n",
              "            '<a target=\"_blank\" href=https://colab.research.google.com/notebooks/data_table.ipynb>data table notebook</a>'\n",
              "            + ' to learn more about interactive tables.';\n",
              "          element.innerHTML = '';\n",
              "          dataTable['output_type'] = 'display_data';\n",
              "          await google.colab.output.renderOutput(dataTable, element);\n",
              "          const docLink = document.createElement('div');\n",
              "          docLink.innerHTML = docLinkHtml;\n",
              "          element.appendChild(docLink);\n",
              "        }\n",
              "      </script>\n",
              "    </div>\n",
              "  </div>\n",
              "  "
            ]
          },
          "metadata": {},
          "execution_count": 61
        }
      ]
    },
    {
      "cell_type": "markdown",
      "metadata": {
        "id": "VAg5a5bmWk3T"
      },
      "source": [
        "**Pregunta 1**: Ayudándose de los pasos vistos en la auxiliar, entrene los modelos Word2Vec y FastText sobre el dataset anterior. **(1 punto)** (Hint, le puede servir explorar un poco los datos)"
      ]
    },
    {
      "cell_type": "markdown",
      "metadata": {
        "id": "MWw2fXFRXe5Y"
      },
      "source": [
        "**Respuesta**:"
      ]
    },
    {
      "cell_type": "code",
      "metadata": {
        "id": "Bvwplz7yTNcr",
        "colab": {
          "base_uri": "https://localhost:8080/"
        },
        "outputId": "1300d28b-1876-4bcc-dea4-2feef57eaefa"
      },
      "source": [
        "print(f\"Número de filas: {df.shape[0]}\")"
      ],
      "execution_count": null,
      "outputs": [
        {
          "output_type": "stream",
          "name": "stdout",
          "text": [
            "Número de filas: 131853\n"
          ]
        }
      ]
    },
    {
      "cell_type": "code",
      "source": [
        "print(\"# de interacciones por personaje:\\n\")\n",
        "\n",
        "(df[['raw_character_text']]\n",
        "  .groupby(by=['raw_character_text'])\n",
        "  .value_counts()\n",
        "  .sort_values(ascending=False)\n",
        "  .reset_index()\n",
        "  .rename(columns={0: \"n\"})\n",
        "  .head(n=15)\n",
        "  .sort_values(by=[\"n\"])\n",
        "  .plot\n",
        "  .barh(x=\"raw_character_text\", y=\"n\")\n",
        ");"
      ],
      "metadata": {
        "colab": {
          "base_uri": "https://localhost:8080/",
          "height": 465
        },
        "id": "DG6MDRuMk8qi",
        "outputId": "ee266a5f-d701-416d-e78e-12e2f739ca6b"
      },
      "execution_count": null,
      "outputs": [
        {
          "output_type": "stream",
          "name": "stdout",
          "text": [
            "# de interacciones por personaje:\n",
            "\n"
          ]
        },
        {
          "output_type": "display_data",
          "data": {
            "text/plain": [
              "<Figure size 640x480 with 1 Axes>"
            ],
            "image/png": "[encoded data removed]"
          },
          "metadata": {}
        }
      ]
    },
    {
      "cell_type": "code",
      "source": [
        "def simple_tokenizer(doc, lower=False):\n",
        "    doc = doc.lower() if lower else doc\n",
        "\n",
        "    tokenized_doc = doc.translate(\n",
        "        str.maketrans('', '', string.punctuation + \"«»“”‘’…—\")\n",
        "    ).split()\n",
        "\n",
        "    tokenized_doc = [\n",
        "        token\n",
        "        for token in tokenized_doc\n",
        "        if token.lower() not in stopwords\n",
        "    ]\n",
        "    return tokenized_doc"
      ],
      "metadata": {
        "id": "GhPDmI5R6jLo"
      },
      "execution_count": null,
      "outputs": []
    },
    {
      "cell_type": "code",
      "source": [
        "cleaned_content = [\n",
        "    simple_tokenizer(doc)\n",
        "    for doc in df[\"spoken_words\"].values\n",
        "]\n",
        "\n",
        "phrases = Phrases(cleaned_content, min_count=100, progress_per=5000) \n",
        "bigram = Phraser(phrases)\n",
        "sentences = bigram[cleaned_content]"
      ],
      "metadata": {
        "id": "OMbGqoav7HNA"
      },
      "execution_count": null,
      "outputs": []
    },
    {
      "cell_type": "code",
      "source": [
        "%%time\n",
        "\n",
        "# entrene modelo Word2Vec\n",
        "simpsons_w2v = Word2Vec(min_count=10,\n",
        "                      window=4,\n",
        "                      vector_size=200,\n",
        "                      sample=6e-5,\n",
        "                      alpha=0.03,\n",
        "                      min_alpha=0.0007,\n",
        "                      negative=20,\n",
        "                      workers=multiprocessing.cpu_count())\n",
        "\n",
        "simpsons_w2v.build_vocab(sentences, progress_per=10000)\n",
        "\n",
        "simpsons_w2v.train(sentences, total_examples=simpsons_w2v.corpus_count,\n",
        "                   epochs=5, report_delay=10)\n",
        "\n",
        "simpsons_w2v.init_sims(replace=True)"
      ],
      "metadata": {
        "colab": {
          "base_uri": "https://localhost:8080/"
        },
        "id": "tPcYJOzi531S",
        "outputId": "171d6652-1381-4b47-a50d-52050a3f20ad"
      },
      "execution_count": null,
      "outputs": [
        {
          "output_type": "stream",
          "name": "stderr",
          "text": [
            "<timed exec>:16: DeprecationWarning: Call to deprecated `init_sims` (Gensim 4.0.0 implemented internal optimizations that make calls to init_sims() unnecessary. init_sims() is now obsoleted and will be completely removed in future versions. See https://github.com/RaRe-Technologies/gensim/wiki/Migrating-from-Gensim-3.x-to-4).\n",
            "WARNING:gensim.models.keyedvectors:destructive init_sims(replace=True) deprecated & no longer required for space-efficiency\n"
          ]
        },
        {
          "output_type": "stream",
          "name": "stdout",
          "text": [
            "CPU times: user 20.8 s, sys: 147 ms, total: 21 s\n",
            "Wall time: 30 s\n"
          ]
        }
      ]
    },
    {
      "cell_type": "code",
      "source": [
        "%%time\n",
        "\n",
        "# entrene modelo FastText utilizen size=200 en FastText\n",
        "simpsons_ft = FastText(vector_size=200, window=3, min_count=1,\n",
        "                       sentences=sentences, epochs=10)"
      ],
      "metadata": {
        "id": "gFP20Js66ISR",
        "colab": {
          "base_uri": "https://localhost:8080/"
        },
        "outputId": "f1a7a8f4-ec04-4c39-eb68-f9ef3a2b1b63"
      },
      "execution_count": null,
      "outputs": [
        {
          "output_type": "stream",
          "name": "stdout",
          "text": [
            "CPU times: user 1min 34s, sys: 2.46 s, total: 1min 37s\n",
            "Wall time: 1min 9s\n"
          ]
        }
      ]
    },
    {
      "cell_type": "markdown",
      "metadata": {
        "id": "-Lr8U5wOTNcr"
      },
      "source": [
        "**Pregunta 2**: Encuentre las palabras mas similares a las siguientes: Lisa, Bart, Homer, Marge. Cúal es la diferencia entre ambos resultados? Por qué ocurre esto? Intente comparar ahora Liisa en ambos modelos (doble i). Cuando escogería uno vs el otro? **(0.5 puntos)**"
      ]
    },
    {
      "cell_type": "markdown",
      "metadata": {
        "id": "yMLyGffVTNcs"
      },
      "source": [
        "**Respuesta**:"
      ]
    },
    {
      "cell_type": "code",
      "source": [
        "palabras = [\"Lisa\", \"Bart\", \"Homer\", \"Marge\"]"
      ],
      "metadata": {
        "id": "u_xmUPQm_jRq"
      },
      "execution_count": null,
      "outputs": []
    },
    {
      "cell_type": "code",
      "metadata": {
        "id": "w6RvJGpbTNcs",
        "colab": {
          "base_uri": "https://localhost:8080/",
          "height": 175
        },
        "outputId": "f132f6d4-273b-4298-c22d-1fcdc374c81a"
      },
      "source": [
        "# Encuentre las palabras mas similares a las siguientes: Lisa, Bart, Homer, Marge w2v\n",
        "similares_w2v = pd.DataFrame([\n",
        "    {\n",
        "        \"palabra_consulta\": p,\n",
        "        \"palabra_cercana\": s[0],\n",
        "        \"similaridad\": s[1]\n",
        "    }\n",
        "    for p in palabras\n",
        "    for s in simpsons_w2v.wv.most_similar(positive=[p])\n",
        "])\n",
        "\n",
        "similares_w2v.groupby([\"palabra_consulta\"]).agg({\n",
        "    \"palabra_cercana\": \"unique\"\n",
        "}).reset_index()"
      ],
      "execution_count": null,
      "outputs": [
        {
          "output_type": "execute_result",
          "data": {
            "text/plain": [
              "  palabra_consulta                                    palabra_cercana\n",
              "0             Bart  [winning, warned, Corporation, Chloe, voters, ...\n",
              "1            Homer  [played, peoples, beast, Judge, Lords, mission...\n",
              "2             Lisa  [rare, dedicated, Catholic, icy, supply, kitch...\n",
              "3            Marge  [teens, special, income, finally, holiday, env..."
            ],
            "text/html": [
              "\n",
              "  <div id=\"df-d07b4e4e-62c0-477f-93d8-603032dfe820\">\n",
              "    <div class=\"colab-df-container\">\n",
              "      <div>\n",
              "<style scoped>\n",
              "    .dataframe tbody tr th:only-of-type {\n",
              "        vertical-align: middle;\n",
              "    }\n",
              "\n",
              "    .dataframe tbody tr th {\n",
              "        vertical-align: top;\n",
              "    }\n",
              "\n",
              "    .dataframe thead th {\n",
              "        text-align: right;\n",
              "    }\n",
              "</style>\n",
              "<table border=\"1\" class=\"dataframe\">\n",
              "  <thead>\n",
              "    <tr style=\"text-align: right;\">\n",
              "      <th></th>\n",
              "      <th>palabra_consulta</th>\n",
              "      <th>palabra_cercana</th>\n",
              "    </tr>\n",
              "  </thead>\n",
              "  <tbody>\n",
              "    <tr>\n",
              "      <th>0</th>\n",
              "      <td>Bart</td>\n",
              "      <td>[winning, warned, Corporation, Chloe, voters, ...</td>\n",
              "    </tr>\n",
              "    <tr>\n",
              "      <th>1</th>\n",
              "      <td>Homer</td>\n",
              "      <td>[played, peoples, beast, Judge, Lords, mission...</td>\n",
              "    </tr>\n",
              "    <tr>\n",
              "      <th>2</th>\n",
              "      <td>Lisa</td>\n",
              "      <td>[rare, dedicated, Catholic, icy, supply, kitch...</td>\n",
              "    </tr>\n",
              "    <tr>\n",
              "      <th>3</th>\n",
              "      <td>Marge</td>\n",
              "      <td>[teens, special, income, finally, holiday, env...</td>\n",
              "    </tr>\n",
              "  </tbody>\n",
              "</table>\n",
              "</div>\n",
              "      <button class=\"colab-df-convert\" onclick=\"convertToInteractive('df-d07b4e4e-62c0-477f-93d8-603032dfe820')\"\n",
              "              title=\"Convert this dataframe to an interactive table.\"\n",
              "              style=\"display:none;\">\n",
              "        \n",
              "  <svg xmlns=\"http://www.w3.org/2000/svg\" height=\"24px\"viewBox=\"0 0 24 24\"\n",
              "       width=\"24px\">\n",
              "    <path d=\"M0 0h24v24H0V0z\" fill=\"none\"/>\n",
              "    <path d=\"M18.56 5.44l.94 2.06.94-2.06 2.06-.94-2.06-.94-.94-2.06-.94 2.06-2.06.94zm-11 1L8.5 8.5l.94-2.06 2.06-.94-2.06-.94L8.5 2.5l-.94 2.06-2.06.94zm10 10l.94 2.06.94-2.06 2.06-.94-2.06-.94-.94-2.06-.94 2.06-2.06.94z\"/><path d=\"M17.41 7.96l-1.37-1.37c-.4-.4-.92-.59-1.43-.59-.52 0-1.04.2-1.43.59L10.3 9.45l-7.72 7.72c-.78.78-.78 2.05 0 2.83L4 21.41c.39.39.9.59 1.41.59.51 0 1.02-.2 1.41-.59l7.78-7.78 2.81-2.81c.8-.78.8-2.07 0-2.86zM5.41 20L4 18.59l7.72-7.72 1.47 1.35L5.41 20z\"/>\n",
              "  </svg>\n",
              "      </button>\n",
              "      \n",
              "  <style>\n",
              "    .colab-df-container {\n",
              "      display:flex;\n",
              "      flex-wrap:wrap;\n",
              "      gap: 12px;\n",
              "    }\n",
              "\n",
              "    .colab-df-convert {\n",
              "      background-color: #E8F0FE;\n",
              "      border: none;\n",
              "      border-radius: 50%;\n",
              "      cursor: pointer;\n",
              "      display: none;\n",
              "      fill: #1967D2;\n",
              "      height: 32px;\n",
              "      padding: 0 0 0 0;\n",
              "      width: 32px;\n",
              "    }\n",
              "\n",
              "    .colab-df-convert:hover {\n",
              "      background-color: #E2EBFA;\n",
              "      box-shadow: 0px 1px 2px rgba(60, 64, 67, 0.3), 0px 1px 3px 1px rgba(60, 64, 67, 0.15);\n",
              "      fill: #174EA6;\n",
              "    }\n",
              "\n",
              "    [theme=dark] .colab-df-convert {\n",
              "      background-color: #3B4455;\n",
              "      fill: #D2E3FC;\n",
              "    }\n",
              "\n",
              "    [theme=dark] .colab-df-convert:hover {\n",
              "      background-color: #434B5C;\n",
              "      box-shadow: 0px 1px 3px 1px rgba(0, 0, 0, 0.15);\n",
              "      filter: drop-shadow(0px 1px 2px rgba(0, 0, 0, 0.3));\n",
              "      fill: #FFFFFF;\n",
              "    }\n",
              "  </style>\n",
              "\n",
              "      <script>\n",
              "        const buttonEl =\n",
              "          document.querySelector('#df-d07b4e4e-62c0-477f-93d8-603032dfe820 button.colab-df-convert');\n",
              "        buttonEl.style.display =\n",
              "          google.colab.kernel.accessAllowed ? 'block' : 'none';\n",
              "\n",
              "        async function convertToInteractive(key) {\n",
              "          const element = document.querySelector('#df-d07b4e4e-62c0-477f-93d8-603032dfe820');\n",
              "          const dataTable =\n",
              "            await google.colab.kernel.invokeFunction('convertToInteractive',\n",
              "                                                     [key], {});\n",
              "          if (!dataTable) return;\n",
              "\n",
              "          const docLinkHtml = 'Like what you see? Visit the ' +\n",
              "            '<a target=\"_blank\" href=https://colab.research.google.com/notebooks/data_table.ipynb>data table notebook</a>'\n",
              "            + ' to learn more about interactive tables.';\n",
              "          element.innerHTML = '';\n",
              "          dataTable['output_type'] = 'display_data';\n",
              "          await google.colab.output.renderOutput(dataTable, element);\n",
              "          const docLink = document.createElement('div');\n",
              "          docLink.innerHTML = docLinkHtml;\n",
              "          element.appendChild(docLink);\n",
              "        }\n",
              "      </script>\n",
              "    </div>\n",
              "  </div>\n",
              "  "
            ]
          },
          "metadata": {},
          "execution_count": 69
        }
      ]
    },
    {
      "cell_type": "code",
      "source": [
        "# Encuentre las palabras mas similares a las siguientes: Lisa, Bart, Homer, Marge ft\n",
        "similares_ft = pd.DataFrame([\n",
        "    {\n",
        "        \"palabra_consulta\": p,\n",
        "        \"palabra_cercana\": s[0],\n",
        "        \"similaridad\": s[1]\n",
        "    }\n",
        "    for p in palabras\n",
        "    for s in simpsons_ft.wv.most_similar(positive=[p])\n",
        "])\n",
        "\n",
        "similares_ft.groupby([\"palabra_consulta\"]).agg({\n",
        "    \"palabra_cercana\": \"unique\"\n",
        "}).reset_index()"
      ],
      "metadata": {
        "colab": {
          "base_uri": "https://localhost:8080/",
          "height": 175
        },
        "id": "bjHPS0Gd9NZE",
        "outputId": "0c4bbaa5-d838-49ca-f113-d4b497aba807"
      },
      "execution_count": null,
      "outputs": [
        {
          "output_type": "execute_result",
          "data": {
            "text/plain": [
              "  palabra_consulta                                    palabra_cercana\n",
              "0             Bart  [BartBart, Bartd, Lisa, BBart, Lisaaa, Lisasa,...\n",
              "1            Homer  [HomerCo, Homerdo, Homerun, HomeIE, Homeo, Hom...\n",
              "2             Lisa  [Bart, isa, Lisaaa, BartBart, Lisasa, BBart, B...\n",
              "3            Marge  [withMarge, Margebot, Margie, Rarge, ListenIn,..."
            ],
            "text/html": [
              "\n",
              "  <div id=\"df-a0de99ac-17fa-40a5-acfb-7504ff13b296\">\n",
              "    <div class=\"colab-df-container\">\n",
              "      <div>\n",
              "<style scoped>\n",
              "    .dataframe tbody tr th:only-of-type {\n",
              "        vertical-align: middle;\n",
              "    }\n",
              "\n",
              "    .dataframe tbody tr th {\n",
              "        vertical-align: top;\n",
              "    }\n",
              "\n",
              "    .dataframe thead th {\n",
              "        text-align: right;\n",
              "    }\n",
              "</style>\n",
              "<table border=\"1\" class=\"dataframe\">\n",
              "  <thead>\n",
              "    <tr style=\"text-align: right;\">\n",
              "      <th></th>\n",
              "      <th>palabra_consulta</th>\n",
              "      <th>palabra_cercana</th>\n",
              "    </tr>\n",
              "  </thead>\n",
              "  <tbody>\n",
              "    <tr>\n",
              "      <th>0</th>\n",
              "      <td>Bart</td>\n",
              "      <td>[BartBart, Bartd, Lisa, BBart, Lisaaa, Lisasa,...</td>\n",
              "    </tr>\n",
              "    <tr>\n",
              "      <th>1</th>\n",
              "      <td>Homer</td>\n",
              "      <td>[HomerCo, Homerdo, Homerun, HomeIE, Homeo, Hom...</td>\n",
              "    </tr>\n",
              "    <tr>\n",
              "      <th>2</th>\n",
              "      <td>Lisa</td>\n",
              "      <td>[Bart, isa, Lisaaa, BartBart, Lisasa, BBart, B...</td>\n",
              "    </tr>\n",
              "    <tr>\n",
              "      <th>3</th>\n",
              "      <td>Marge</td>\n",
              "      <td>[withMarge, Margebot, Margie, Rarge, ListenIn,...</td>\n",
              "    </tr>\n",
              "  </tbody>\n",
              "</table>\n",
              "</div>\n",
              "      <button class=\"colab-df-convert\" onclick=\"convertToInteractive('df-a0de99ac-17fa-40a5-acfb-7504ff13b296')\"\n",
              "              title=\"Convert this dataframe to an interactive table.\"\n",
              "              style=\"display:none;\">\n",
              "        \n",
              "  <svg xmlns=\"http://www.w3.org/2000/svg\" height=\"24px\"viewBox=\"0 0 24 24\"\n",
              "       width=\"24px\">\n",
              "    <path d=\"M0 0h24v24H0V0z\" fill=\"none\"/>\n",
              "    <path d=\"M18.56 5.44l.94 2.06.94-2.06 2.06-.94-2.06-.94-.94-2.06-.94 2.06-2.06.94zm-11 1L8.5 8.5l.94-2.06 2.06-.94-2.06-.94L8.5 2.5l-.94 2.06-2.06.94zm10 10l.94 2.06.94-2.06 2.06-.94-2.06-.94-.94-2.06-.94 2.06-2.06.94z\"/><path d=\"M17.41 7.96l-1.37-1.37c-.4-.4-.92-.59-1.43-.59-.52 0-1.04.2-1.43.59L10.3 9.45l-7.72 7.72c-.78.78-.78 2.05 0 2.83L4 21.41c.39.39.9.59 1.41.59.51 0 1.02-.2 1.41-.59l7.78-7.78 2.81-2.81c.8-.78.8-2.07 0-2.86zM5.41 20L4 18.59l7.72-7.72 1.47 1.35L5.41 20z\"/>\n",
              "  </svg>\n",
              "      </button>\n",
              "      \n",
              "  <style>\n",
              "    .colab-df-container {\n",
              "      display:flex;\n",
              "      flex-wrap:wrap;\n",
              "      gap: 12px;\n",
              "    }\n",
              "\n",
              "    .colab-df-convert {\n",
              "      background-color: #E8F0FE;\n",
              "      border: none;\n",
              "      border-radius: 50%;\n",
              "      cursor: pointer;\n",
              "      display: none;\n",
              "      fill: #1967D2;\n",
              "      height: 32px;\n",
              "      padding: 0 0 0 0;\n",
              "      width: 32px;\n",
              "    }\n",
              "\n",
              "    .colab-df-convert:hover {\n",
              "      background-color: #E2EBFA;\n",
              "      box-shadow: 0px 1px 2px rgba(60, 64, 67, 0.3), 0px 1px 3px 1px rgba(60, 64, 67, 0.15);\n",
              "      fill: #174EA6;\n",
              "    }\n",
              "\n",
              "    [theme=dark] .colab-df-convert {\n",
              "      background-color: #3B4455;\n",
              "      fill: #D2E3FC;\n",
              "    }\n",
              "\n",
              "    [theme=dark] .colab-df-convert:hover {\n",
              "      background-color: #434B5C;\n",
              "      box-shadow: 0px 1px 3px 1px rgba(0, 0, 0, 0.15);\n",
              "      filter: drop-shadow(0px 1px 2px rgba(0, 0, 0, 0.3));\n",
              "      fill: #FFFFFF;\n",
              "    }\n",
              "  </style>\n",
              "\n",
              "      <script>\n",
              "        const buttonEl =\n",
              "          document.querySelector('#df-a0de99ac-17fa-40a5-acfb-7504ff13b296 button.colab-df-convert');\n",
              "        buttonEl.style.display =\n",
              "          google.colab.kernel.accessAllowed ? 'block' : 'none';\n",
              "\n",
              "        async function convertToInteractive(key) {\n",
              "          const element = document.querySelector('#df-a0de99ac-17fa-40a5-acfb-7504ff13b296');\n",
              "          const dataTable =\n",
              "            await google.colab.kernel.invokeFunction('convertToInteractive',\n",
              "                                                     [key], {});\n",
              "          if (!dataTable) return;\n",
              "\n",
              "          const docLinkHtml = 'Like what you see? Visit the ' +\n",
              "            '<a target=\"_blank\" href=https://colab.research.google.com/notebooks/data_table.ipynb>data table notebook</a>'\n",
              "            + ' to learn more about interactive tables.';\n",
              "          element.innerHTML = '';\n",
              "          dataTable['output_type'] = 'display_data';\n",
              "          await google.colab.output.renderOutput(dataTable, element);\n",
              "          const docLink = document.createElement('div');\n",
              "          docLink.innerHTML = docLinkHtml;\n",
              "          element.appendChild(docLink);\n",
              "        }\n",
              "      </script>\n",
              "    </div>\n",
              "  </div>\n",
              "  "
            ]
          },
          "metadata": {},
          "execution_count": 70
        }
      ]
    },
    {
      "cell_type": "markdown",
      "source": [
        "**¿Cúal es la diferencia entre ambos resultados?**\n",
        "\n",
        "La diferencia es que en el caso de _FastText_ las palabras más similares a las consultadas tienen una similitud morfológica con dicha palabra, mientras que en el caso de _Word2Vec_ no es así.\n",
        "\n",
        "**¿Por qué ocurre esto?**\n",
        "\n",
        "Esto ocurre porque _Word2Vec_ aprende representaciones vectoriales de palabras en función de su contexto en el corpus de texto, pero no considera las subpalabras o los morfemas en su representación. En cambio, _FastText_ se basa en _Word2Vec_ pero también considera las subpalabras y morfemas, descomponiendo las palabras en fragmentos más pequeños, y luego combinando los vectores aprendidos de las subpalabras para representar la palabra completa.\n",
        "\n",
        "Por tanto, _FastText_ considera similares palabras que comparten raíces o subpalabras, ya que considera la información morfológica. En cambio, _Word2Vec_ considera similitudes semánticas entre las palabras."
      ],
      "metadata": {
        "id": "2onYRVKS9QHT"
      }
    },
    {
      "cell_type": "code",
      "source": [
        "# Intente comparar ahora Liisa en ambos modelos (doble i)\n",
        "\n",
        "def manage_similar(model, positive):\n",
        "  try:\n",
        "    return model.wv.most_similar(positive=positive)\n",
        "  \n",
        "  except KeyError as e:\n",
        "    print(e, model)\n",
        "    return [np.nan]\n",
        "\n",
        "\n",
        "liisa_sim = pd.DataFrame([\n",
        "    {\n",
        "        \"palabra_cercana\": s[0] if isinstance(s, tuple) else s,\n",
        "        \"modelo\": m\n",
        "    }\n",
        "    for m, ms in [\n",
        "        (\"Word2Vec\", manage_similar(simpsons_w2v, [\"Liisa\"])),\n",
        "        (\"FastText\", manage_similar(simpsons_ft, [\"Liisa\"])),\n",
        "    ]\n",
        "    for s in ms\n",
        "]).groupby([\"modelo\"]).agg({\n",
        "    \"palabra_cercana\": \"unique\"\n",
        "}).reset_index()\n",
        "\n",
        "liisa_sim"
      ],
      "metadata": {
        "colab": {
          "base_uri": "https://localhost:8080/",
          "height": 129
        },
        "id": "3Z-l5BKr9O2-",
        "outputId": "b56b6104-480c-4158-cbc8-e5a9478bdae7"
      },
      "execution_count": null,
      "outputs": [
        {
          "output_type": "stream",
          "name": "stdout",
          "text": [
            "\"Key 'Liisa' not present in vocabulary\" Word2Vec<vocab=6503, vector_size=200, alpha=0.03>\n"
          ]
        },
        {
          "output_type": "execute_result",
          "data": {
            "text/plain": [
              "     modelo                                    palabra_cercana\n",
              "0  FastText  [Zsa, cÃ³sa, isa, Pisa, Visa, Lisaaa, BBart, L...\n",
              "1  Word2Vec                                              [nan]"
            ],
            "text/html": [
              "\n",
              "  <div id=\"df-b087875d-7183-419b-98a8-66e933520419\">\n",
              "    <div class=\"colab-df-container\">\n",
              "      <div>\n",
              "<style scoped>\n",
              "    .dataframe tbody tr th:only-of-type {\n",
              "        vertical-align: middle;\n",
              "    }\n",
              "\n",
              "    .dataframe tbody tr th {\n",
              "        vertical-align: top;\n",
              "    }\n",
              "\n",
              "    .dataframe thead th {\n",
              "        text-align: right;\n",
              "    }\n",
              "</style>\n",
              "<table border=\"1\" class=\"dataframe\">\n",
              "  <thead>\n",
              "    <tr style=\"text-align: right;\">\n",
              "      <th></th>\n",
              "      <th>modelo</th>\n",
              "      <th>palabra_cercana</th>\n",
              "    </tr>\n",
              "  </thead>\n",
              "  <tbody>\n",
              "    <tr>\n",
              "      <th>0</th>\n",
              "      <td>FastText</td>\n",
              "      <td>[Zsa, cÃ³sa, isa, Pisa, Visa, Lisaaa, BBart, L...</td>\n",
              "    </tr>\n",
              "    <tr>\n",
              "      <th>1</th>\n",
              "      <td>Word2Vec</td>\n",
              "      <td>[nan]</td>\n",
              "    </tr>\n",
              "  </tbody>\n",
              "</table>\n",
              "</div>\n",
              "      <button class=\"colab-df-convert\" onclick=\"convertToInteractive('df-b087875d-7183-419b-98a8-66e933520419')\"\n",
              "              title=\"Convert this dataframe to an interactive table.\"\n",
              "              style=\"display:none;\">\n",
              "        \n",
              "  <svg xmlns=\"http://www.w3.org/2000/svg\" height=\"24px\"viewBox=\"0 0 24 24\"\n",
              "       width=\"24px\">\n",
              "    <path d=\"M0 0h24v24H0V0z\" fill=\"none\"/>\n",
              "    <path d=\"M18.56 5.44l.94 2.06.94-2.06 2.06-.94-2.06-.94-.94-2.06-.94 2.06-2.06.94zm-11 1L8.5 8.5l.94-2.06 2.06-.94-2.06-.94L8.5 2.5l-.94 2.06-2.06.94zm10 10l.94 2.06.94-2.06 2.06-.94-2.06-.94-.94-2.06-.94 2.06-2.06.94z\"/><path d=\"M17.41 7.96l-1.37-1.37c-.4-.4-.92-.59-1.43-.59-.52 0-1.04.2-1.43.59L10.3 9.45l-7.72 7.72c-.78.78-.78 2.05 0 2.83L4 21.41c.39.39.9.59 1.41.59.51 0 1.02-.2 1.41-.59l7.78-7.78 2.81-2.81c.8-.78.8-2.07 0-2.86zM5.41 20L4 18.59l7.72-7.72 1.47 1.35L5.41 20z\"/>\n",
              "  </svg>\n",
              "      </button>\n",
              "      \n",
              "  <style>\n",
              "    .colab-df-container {\n",
              "      display:flex;\n",
              "      flex-wrap:wrap;\n",
              "      gap: 12px;\n",
              "    }\n",
              "\n",
              "    .colab-df-convert {\n",
              "      background-color: #E8F0FE;\n",
              "      border: none;\n",
              "      border-radius: 50%;\n",
              "      cursor: pointer;\n",
              "      display: none;\n",
              "      fill: #1967D2;\n",
              "      height: 32px;\n",
              "      padding: 0 0 0 0;\n",
              "      width: 32px;\n",
              "    }\n",
              "\n",
              "    .colab-df-convert:hover {\n",
              "      background-color: #E2EBFA;\n",
              "      box-shadow: 0px 1px 2px rgba(60, 64, 67, 0.3), 0px 1px 3px 1px rgba(60, 64, 67, 0.15);\n",
              "      fill: #174EA6;\n",
              "    }\n",
              "\n",
              "    [theme=dark] .colab-df-convert {\n",
              "      background-color: #3B4455;\n",
              "      fill: #D2E3FC;\n",
              "    }\n",
              "\n",
              "    [theme=dark] .colab-df-convert:hover {\n",
              "      background-color: #434B5C;\n",
              "      box-shadow: 0px 1px 3px 1px rgba(0, 0, 0, 0.15);\n",
              "      filter: drop-shadow(0px 1px 2px rgba(0, 0, 0, 0.3));\n",
              "      fill: #FFFFFF;\n",
              "    }\n",
              "  </style>\n",
              "\n",
              "      <script>\n",
              "        const buttonEl =\n",
              "          document.querySelector('#df-b087875d-7183-419b-98a8-66e933520419 button.colab-df-convert');\n",
              "        buttonEl.style.display =\n",
              "          google.colab.kernel.accessAllowed ? 'block' : 'none';\n",
              "\n",
              "        async function convertToInteractive(key) {\n",
              "          const element = document.querySelector('#df-b087875d-7183-419b-98a8-66e933520419');\n",
              "          const dataTable =\n",
              "            await google.colab.kernel.invokeFunction('convertToInteractive',\n",
              "                                                     [key], {});\n",
              "          if (!dataTable) return;\n",
              "\n",
              "          const docLinkHtml = 'Like what you see? Visit the ' +\n",
              "            '<a target=\"_blank\" href=https://colab.research.google.com/notebooks/data_table.ipynb>data table notebook</a>'\n",
              "            + ' to learn more about interactive tables.';\n",
              "          element.innerHTML = '';\n",
              "          dataTable['output_type'] = 'display_data';\n",
              "          await google.colab.output.renderOutput(dataTable, element);\n",
              "          const docLink = document.createElement('div');\n",
              "          docLink.innerHTML = docLinkHtml;\n",
              "          element.appendChild(docLink);\n",
              "        }\n",
              "      </script>\n",
              "    </div>\n",
              "  </div>\n",
              "  "
            ]
          },
          "metadata": {},
          "execution_count": 71
        }
      ]
    },
    {
      "cell_type": "markdown",
      "source": [
        "**¿Cuando escogería uno vs el otro?**\n",
        "\n",
        "Para el caso de _Word2Vec_ no es posible encontrar una palabra similar, ya que la palabra consultada no se encuentra en el vocabulario obtenido a partir del corpus de entrenamiento.\n",
        "\n",
        "Usaríamos _Word2Vec_ cuando el objetivo sea encontrar palabras similares en cuanto al contexto. Un posible ejemplo de aplicación puede ser el de \"buscar sinónimos\".\n",
        "\n",
        "Usaríamos _FastText_ cuando el objetivo sea encontrar palabras similares en cuanto a su morfología. Un posible ejemplo de aplicación puede ser el de \"buscar palabras similares a una palabra que puede tener errores ortográficos\"."
      ],
      "metadata": {
        "id": "SErjaBIM9hXZ"
      }
    },
    {
      "cell_type": "markdown",
      "metadata": {
        "id": "IRCB-jqgTNcs"
      },
      "source": [
        "### **Parte 4 (1 Punto): Aplicar embeddings para clasificar**"
      ]
    },
    {
      "cell_type": "markdown",
      "metadata": {
        "id": "zlqzlJRSTNcs"
      },
      "source": [
        "Ahora utilizaremos los embeddings que acabamos de calcular para clasificar palabras basadas en su polaridad (positivas o negativas). \n",
        "\n",
        "Para esto ocuparemos el lexicón AFINN incluido en la tarea, que incluye una lista de palabras y un 1 si su connotación es positiva y un -1 si es negativa."
      ]
    },
    {
      "cell_type": "code",
      "metadata": {
        "id": "CMskFDmHTNcs",
        "colab": {
          "base_uri": "https://localhost:8080/",
          "height": 206
        },
        "outputId": "20079b42-23d7-4851-c722-f67f0d6f245e"
      },
      "source": [
        "df_afinn = pd.read_csv(\n",
        "    \"https://raw.githubusercontent.com/alcazar90/CC6205-NLP/main/data/AFINN_full.csv\",\n",
        "     sep='\\t', header=None)\n",
        "\n",
        "df_afinn.head(n=5)"
      ],
      "execution_count": null,
      "outputs": [
        {
          "output_type": "execute_result",
          "data": {
            "text/plain": [
              "          0  1\n",
              "0      tops  1\n",
              "1     groan -1\n",
              "2  perfects  1\n",
              "3   spammer -1\n",
              "4  saluting  1"
            ],
            "text/html": [
              "\n",
              "  <div id=\"df-5396fe42-23e5-48cb-bdcc-a55dfd741423\">\n",
              "    <div class=\"colab-df-container\">\n",
              "      <div>\n",
              "<style scoped>\n",
              "    .dataframe tbody tr th:only-of-type {\n",
              "        vertical-align: middle;\n",
              "    }\n",
              "\n",
              "    .dataframe tbody tr th {\n",
              "        vertical-align: top;\n",
              "    }\n",
              "\n",
              "    .dataframe thead th {\n",
              "        text-align: right;\n",
              "    }\n",
              "</style>\n",
              "<table border=\"1\" class=\"dataframe\">\n",
              "  <thead>\n",
              "    <tr style=\"text-align: right;\">\n",
              "      <th></th>\n",
              "      <th>0</th>\n",
              "      <th>1</th>\n",
              "    </tr>\n",
              "  </thead>\n",
              "  <tbody>\n",
              "    <tr>\n",
              "      <th>0</th>\n",
              "      <td>tops</td>\n",
              "      <td>1</td>\n",
              "    </tr>\n",
              "    <tr>\n",
              "      <th>1</th>\n",
              "      <td>groan</td>\n",
              "      <td>-1</td>\n",
              "    </tr>\n",
              "    <tr>\n",
              "      <th>2</th>\n",
              "      <td>perfects</td>\n",
              "      <td>1</td>\n",
              "    </tr>\n",
              "    <tr>\n",
              "      <th>3</th>\n",
              "      <td>spammer</td>\n",
              "      <td>-1</td>\n",
              "    </tr>\n",
              "    <tr>\n",
              "      <th>4</th>\n",
              "      <td>saluting</td>\n",
              "      <td>1</td>\n",
              "    </tr>\n",
              "  </tbody>\n",
              "</table>\n",
              "</div>\n",
              "      <button class=\"colab-df-convert\" onclick=\"convertToInteractive('df-5396fe42-23e5-48cb-bdcc-a55dfd741423')\"\n",
              "              title=\"Convert this dataframe to an interactive table.\"\n",
              "              style=\"display:none;\">\n",
              "        \n",
              "  <svg xmlns=\"http://www.w3.org/2000/svg\" height=\"24px\"viewBox=\"0 0 24 24\"\n",
              "       width=\"24px\">\n",
              "    <path d=\"M0 0h24v24H0V0z\" fill=\"none\"/>\n",
              "    <path d=\"M18.56 5.44l.94 2.06.94-2.06 2.06-.94-2.06-.94-.94-2.06-.94 2.06-2.06.94zm-11 1L8.5 8.5l.94-2.06 2.06-.94-2.06-.94L8.5 2.5l-.94 2.06-2.06.94zm10 10l.94 2.06.94-2.06 2.06-.94-2.06-.94-.94-2.06-.94 2.06-2.06.94z\"/><path d=\"M17.41 7.96l-1.37-1.37c-.4-.4-.92-.59-1.43-.59-.52 0-1.04.2-1.43.59L10.3 9.45l-7.72 7.72c-.78.78-.78 2.05 0 2.83L4 21.41c.39.39.9.59 1.41.59.51 0 1.02-.2 1.41-.59l7.78-7.78 2.81-2.81c.8-.78.8-2.07 0-2.86zM5.41 20L4 18.59l7.72-7.72 1.47 1.35L5.41 20z\"/>\n",
              "  </svg>\n",
              "      </button>\n",
              "      \n",
              "  <style>\n",
              "    .colab-df-container {\n",
              "      display:flex;\n",
              "      flex-wrap:wrap;\n",
              "      gap: 12px;\n",
              "    }\n",
              "\n",
              "    .colab-df-convert {\n",
              "      background-color: #E8F0FE;\n",
              "      border: none;\n",
              "      border-radius: 50%;\n",
              "      cursor: pointer;\n",
              "      display: none;\n",
              "      fill: #1967D2;\n",
              "      height: 32px;\n",
              "      padding: 0 0 0 0;\n",
              "      width: 32px;\n",
              "    }\n",
              "\n",
              "    .colab-df-convert:hover {\n",
              "      background-color: #E2EBFA;\n",
              "      box-shadow: 0px 1px 2px rgba(60, 64, 67, 0.3), 0px 1px 3px 1px rgba(60, 64, 67, 0.15);\n",
              "      fill: #174EA6;\n",
              "    }\n",
              "\n",
              "    [theme=dark] .colab-df-convert {\n",
              "      background-color: #3B4455;\n",
              "      fill: #D2E3FC;\n",
              "    }\n",
              "\n",
              "    [theme=dark] .colab-df-convert:hover {\n",
              "      background-color: #434B5C;\n",
              "      box-shadow: 0px 1px 3px 1px rgba(0, 0, 0, 0.15);\n",
              "      filter: drop-shadow(0px 1px 2px rgba(0, 0, 0, 0.3));\n",
              "      fill: #FFFFFF;\n",
              "    }\n",
              "  </style>\n",
              "\n",
              "      <script>\n",
              "        const buttonEl =\n",
              "          document.querySelector('#df-5396fe42-23e5-48cb-bdcc-a55dfd741423 button.colab-df-convert');\n",
              "        buttonEl.style.display =\n",
              "          google.colab.kernel.accessAllowed ? 'block' : 'none';\n",
              "\n",
              "        async function convertToInteractive(key) {\n",
              "          const element = document.querySelector('#df-5396fe42-23e5-48cb-bdcc-a55dfd741423');\n",
              "          const dataTable =\n",
              "            await google.colab.kernel.invokeFunction('convertToInteractive',\n",
              "                                                     [key], {});\n",
              "          if (!dataTable) return;\n",
              "\n",
              "          const docLinkHtml = 'Like what you see? Visit the ' +\n",
              "            '<a target=\"_blank\" href=https://colab.research.google.com/notebooks/data_table.ipynb>data table notebook</a>'\n",
              "            + ' to learn more about interactive tables.';\n",
              "          element.innerHTML = '';\n",
              "          dataTable['output_type'] = 'display_data';\n",
              "          await google.colab.output.renderOutput(dataTable, element);\n",
              "          const docLink = document.createElement('div');\n",
              "          docLink.innerHTML = docLinkHtml;\n",
              "          element.appendChild(docLink);\n",
              "        }\n",
              "      </script>\n",
              "    </div>\n",
              "  </div>\n",
              "  "
            ]
          },
          "metadata": {},
          "execution_count": 72
        }
      ]
    },
    {
      "cell_type": "markdown",
      "metadata": {
        "id": "uaKl8hsCTNcs"
      },
      "source": [
        "Hint: Para w2v son esperables KeyErrors debido a que no todas las palabras del corpus de los simpsons tendrán una representación en AFINN. Pueden utilizar esta función auxiliar para filtrar las filas en el dataframe que no tienen embeddings (como w2v no tiene token UNK se deben ignorar)."
      ]
    },
    {
      "cell_type": "code",
      "metadata": {
        "id": "tWSSuctiTNcs"
      },
      "source": [
        "def try_apply(model,word):\n",
        "    try:\n",
        "        aux = model[word]\n",
        "        return True\n",
        "    except KeyError:\n",
        "        #logger.error('Word {} not in dictionary'.format(word))\n",
        "        return False"
      ],
      "execution_count": null,
      "outputs": []
    },
    {
      "cell_type": "markdown",
      "metadata": {
        "id": "LrVPeEzgTNcs"
      },
      "source": [
        "**Pregunta 1**: Transforme las palabras del corpus de AFINN a la representación en embedding que acabamos de calcular (con ambos modelos). \n",
        "\n",
        "Su dataframe final debe ser del estilo [embedding, sentimiento], donde los embeddings corresponden a $X$ y el sentimiento asociado con el embedding a $y$ (positivo/negativo, 1/-1). \n",
        "\n",
        "Para ambos modelos, separar train y test de acuerdo a la siguiente función. **(0.75 puntos)**\n",
        "\n",
        "```python\n",
        "X_train, X_test, y_train, y_test = train_test_split(X, y, random_state=0, test_size=0.1, stratify=y)\n",
        "```"
      ]
    },
    {
      "cell_type": "markdown",
      "metadata": {
        "id": "iDcq5czXTNct"
      },
      "source": [
        "**Respuesta**:"
      ]
    },
    {
      "cell_type": "markdown",
      "source": [
        "#### Obtener embeddings usando `Word2Vec` (filtrar palabras no encontradas)"
      ],
      "metadata": {
        "id": "3-vNrCdCwup8"
      }
    },
    {
      "cell_type": "code",
      "source": [
        "print(f\"# filas previo a filtrar: {df_afinn.shape[0]}\")"
      ],
      "metadata": {
        "colab": {
          "base_uri": "https://localhost:8080/"
        },
        "id": "v8W89-kXvqCL",
        "outputId": "5b1d32b3-8cec-4549-b230-4941e1f9afd6"
      },
      "execution_count": null,
      "outputs": [
        {
          "output_type": "stream",
          "name": "stdout",
          "text": [
            "# filas previo a filtrar: 3382\n"
          ]
        }
      ]
    },
    {
      "cell_type": "code",
      "source": [
        "mask = df_afinn[0].apply(lambda x: try_apply(simpsons_w2v.wv, x)) # la función try_apply recibe una palabra, no una fila\n",
        "df_afinn_filter = df_afinn[mask]\n",
        "\n",
        "# Primer dataframe es un work-around para desenvolver la columna que contiene \n",
        "# el vector de embeddings en tantas columnas como el largo de los embeddings\n",
        "X_w2v, y_w2v = (pd.DataFrame(df_afinn_filter[0].apply(lambda x: simpsons_w2v.wv[x]).apply(pd.Series)), \n",
        "                df_afinn_filter[1])"
      ],
      "metadata": {
        "id": "8a1S9fOPvYW5"
      },
      "execution_count": null,
      "outputs": []
    },
    {
      "cell_type": "code",
      "source": [
        "print(f\"# filas posterior a filtrar palabras en simpsons_w2v: {df_afinn_filter.shape[0]}\")\n",
        "print(f\"Dimensiones embeddings provenientes de Word2Vec: {X_w2v.shape}\")"
      ],
      "metadata": {
        "colab": {
          "base_uri": "https://localhost:8080/"
        },
        "id": "1SxQNfLcwLCi",
        "outputId": "0b63cf95-cef5-4563-e243-dcb8bdc564f2"
      },
      "execution_count": null,
      "outputs": [
        {
          "output_type": "stream",
          "name": "stdout",
          "text": [
            "# filas posterior a filtrar palabras en simpsons_w2v: 851\n",
            "Dimensiones embeddings provenientes de Word2Vec: (851, 200)\n"
          ]
        }
      ]
    },
    {
      "cell_type": "code",
      "source": [
        "print(\"Proporción de etiquetas:\\n\")\n",
        "y_w2v.value_counts(normalize=True)"
      ],
      "metadata": {
        "colab": {
          "base_uri": "https://localhost:8080/"
        },
        "id": "dP1q8-rE0-Aw",
        "outputId": "ff103021-8436-4b58-8740-c9565f48f29c"
      },
      "execution_count": null,
      "outputs": [
        {
          "output_type": "stream",
          "name": "stdout",
          "text": [
            "Proporción de etiquetas:\n",
            "\n"
          ]
        },
        {
          "output_type": "execute_result",
          "data": {
            "text/plain": [
              "-1    0.585194\n",
              " 1    0.414806\n",
              "Name: 1, dtype: float64"
            ]
          },
          "metadata": {},
          "execution_count": 78
        }
      ]
    },
    {
      "cell_type": "markdown",
      "source": [
        "#### Obtener embeddings usando `FastText`"
      ],
      "metadata": {
        "id": "opABFM36w2fA"
      }
    },
    {
      "cell_type": "code",
      "source": [
        "X_ft, y_ft = (pd.DataFrame(df_afinn[0].apply(lambda x: simpsons_ft.wv[x]).apply(pd.Series)),\n",
        "              df_afinn[1])"
      ],
      "metadata": {
        "id": "b842PdUTxAOb"
      },
      "execution_count": null,
      "outputs": []
    },
    {
      "cell_type": "code",
      "source": [
        "print(f\"Dimensiones embeddings provenientes de FastText: {X_ft.shape}\")"
      ],
      "metadata": {
        "colab": {
          "base_uri": "https://localhost:8080/"
        },
        "id": "Uu_lTCaZ0Uau",
        "outputId": "92e9a198-48a3-489f-d894-956a562a17a5"
      },
      "execution_count": null,
      "outputs": [
        {
          "output_type": "stream",
          "name": "stdout",
          "text": [
            "Dimensiones embeddings provenientes de FastText: (3382, 200)\n"
          ]
        }
      ]
    },
    {
      "cell_type": "code",
      "source": [
        "print(\"Proporción de etiquetas:\\n\")\n",
        "y_ft.value_counts(normalize=True)"
      ],
      "metadata": {
        "colab": {
          "base_uri": "https://localhost:8080/"
        },
        "id": "-BKYMXdb1E0E",
        "outputId": "5eb53787-4423-437e-f541-b03d8ac6549f"
      },
      "execution_count": null,
      "outputs": [
        {
          "output_type": "stream",
          "name": "stdout",
          "text": [
            "Proporción de etiquetas:\n",
            "\n"
          ]
        },
        {
          "output_type": "execute_result",
          "data": {
            "text/plain": [
              "-1    0.652277\n",
              " 1    0.347723\n",
              "Name: 1, dtype: float64"
            ]
          },
          "metadata": {},
          "execution_count": 81
        }
      ]
    },
    {
      "cell_type": "markdown",
      "source": [
        "#### Separación subsets"
      ],
      "metadata": {
        "id": "uyi2AzY4NLPy"
      }
    },
    {
      "cell_type": "code",
      "metadata": {
        "id": "0Bkt26BwTNcs"
      },
      "source": [
        "X_train_w2v, X_test_w2v, y_train_w2v, y_test_w2v = train_test_split(\n",
        "    X_w2v, y_w2v,random_state=0, test_size=0.1, stratify=y_w2v\n",
        ")\n",
        "\n",
        "X_train_ft, X_test_ft, y_train_ft, y_test_ft = train_test_split(\n",
        "    X_ft, y_ft, random_state=0, test_size=0.1, stratify=y_ft\n",
        ")"
      ],
      "execution_count": null,
      "outputs": []
    },
    {
      "cell_type": "markdown",
      "metadata": {
        "id": "kDKe4gA3TNct"
      },
      "source": [
        "**Pregunta 2**: Entrenar una regresión logística (vista en auxiliar) y reportar accuracy, precision, recall, f1 y confusion_matrix para ambos modelos. Por qué se obtienen estos resultados? Cómo los mejorarías? **(0.75 puntos)**"
      ]
    },
    {
      "cell_type": "markdown",
      "source": [
        "#### Entrenamiento de modelos"
      ],
      "metadata": {
        "id": "dLFSqJELNrVU"
      }
    },
    {
      "cell_type": "code",
      "metadata": {
        "id": "upAn_eT4TNct",
        "colab": {
          "base_uri": "https://localhost:8080/",
          "height": 75
        },
        "outputId": "0380173d-6636-4012-9695-15d5a72e5387"
      },
      "source": [
        "# Inicializar modelos de regresion para cada tipoo de embedding\n",
        "clf_w2v = LogisticRegression(max_iter=int(1e6))\n",
        "clf_ft = LogisticRegression(max_iter=int(1e6))\n",
        "\n",
        "# Ajustar usando datasets con embeddings correspondientes\n",
        "clf_w2v.fit(X_train_w2v, y_train_w2v)\n",
        "clf_ft.fit(X_train_ft, y_train_ft)"
      ],
      "execution_count": null,
      "outputs": [
        {
          "output_type": "execute_result",
          "data": {
            "text/plain": [
              "LogisticRegression(max_iter=1000000)"
            ],
            "text/html": [
              "<style>#sk-container-id-2 {color: black;background-color: white;}#sk-container-id-2 pre{padding: 0;}#sk-container-id-2 div.sk-toggleable {background-color: white;}#sk-container-id-2 label.sk-toggleable__label {cursor: pointer;display: block;width: 100%;margin-bottom: 0;padding: 0.3em;box-sizing: border-box;text-align: center;}#sk-container-id-2 label.sk-toggleable__label-arrow:before {content: \"▸\";float: left;margin-right: 0.25em;color: #696969;}#sk-container-id-2 label.sk-toggleable__label-arrow:hover:before {color: black;}#sk-container-id-2 div.sk-estimator:hover label.sk-toggleable__label-arrow:before {color: black;}#sk-container-id-2 div.sk-toggleable__content {max-height: 0;max-width: 0;overflow: hidden;text-align: left;background-color: #f0f8ff;}#sk-container-id-2 div.sk-toggleable__content pre {margin: 0.2em;color: black;border-radius: 0.25em;background-color: #f0f8ff;}#sk-container-id-2 input.sk-toggleable__control:checked~div.sk-toggleable__content {max-height: 200px;max-width: 100%;overflow: auto;}#sk-container-id-2 input.sk-toggleable__control:checked~label.sk-toggleable__label-arrow:before {content: \"▾\";}#sk-container-id-2 div.sk-estimator input.sk-toggleable__control:checked~label.sk-toggleable__label {background-color: #d4ebff;}#sk-container-id-2 div.sk-label input.sk-toggleable__control:checked~label.sk-toggleable__label {background-color: #d4ebff;}#sk-container-id-2 input.sk-hidden--visually {border: 0;clip: rect(1px 1px 1px 1px);clip: rect(1px, 1px, 1px, 1px);height: 1px;margin: -1px;overflow: hidden;padding: 0;position: absolute;width: 1px;}#sk-container-id-2 div.sk-estimator {font-family: monospace;background-color: #f0f8ff;border: 1px dotted black;border-radius: 0.25em;box-sizing: border-box;margin-bottom: 0.5em;}#sk-container-id-2 div.sk-estimator:hover {background-color: #d4ebff;}#sk-container-id-2 div.sk-parallel-item::after {content: \"\";width: 100%;border-bottom: 1px solid gray;flex-grow: 1;}#sk-container-id-2 div.sk-label:hover label.sk-toggleable__label {background-color: #d4ebff;}#sk-container-id-2 div.sk-serial::before {content: \"\";position: absolute;border-left: 1px solid gray;box-sizing: border-box;top: 0;bottom: 0;left: 50%;z-index: 0;}#sk-container-id-2 div.sk-serial {display: flex;flex-direction: column;align-items: center;background-color: white;padding-right: 0.2em;padding-left: 0.2em;position: relative;}#sk-container-id-2 div.sk-item {position: relative;z-index: 1;}#sk-container-id-2 div.sk-parallel {display: flex;align-items: stretch;justify-content: center;background-color: white;position: relative;}#sk-container-id-2 div.sk-item::before, #sk-container-id-2 div.sk-parallel-item::before {content: \"\";position: absolute;border-left: 1px solid gray;box-sizing: border-box;top: 0;bottom: 0;left: 50%;z-index: -1;}#sk-container-id-2 div.sk-parallel-item {display: flex;flex-direction: column;z-index: 1;position: relative;background-color: white;}#sk-container-id-2 div.sk-parallel-item:first-child::after {align-self: flex-end;width: 50%;}#sk-container-id-2 div.sk-parallel-item:last-child::after {align-self: flex-start;width: 50%;}#sk-container-id-2 div.sk-parallel-item:only-child::after {width: 0;}#sk-container-id-2 div.sk-dashed-wrapped {border: 1px dashed gray;margin: 0 0.4em 0.5em 0.4em;box-sizing: border-box;padding-bottom: 0.4em;background-color: white;}#sk-container-id-2 div.sk-label label {font-family: monospace;font-weight: bold;display: inline-block;line-height: 1.2em;}#sk-container-id-2 div.sk-label-container {text-align: center;}#sk-container-id-2 div.sk-container {/* jupyter's `normalize.less` sets `[hidden] { display: none; }` but bootstrap.min.css set `[hidden] { display: none !important; }` so we also need the `!important` here to be able to override the default hidden behavior on the sphinx rendered scikit-learn.org. See: https://github.com/scikit-learn/scikit-learn/issues/21755 */display: inline-block !important;position: relative;}#sk-container-id-2 div.sk-text-repr-fallback {display: none;}</style><div id=\"sk-container-id-2\" class=\"sk-top-container\"><div class=\"sk-text-repr-fallback\"><pre>LogisticRegression(max_iter=1000000)</pre><b>In a Jupyter environment, please rerun this cell to show the HTML representation or trust the notebook. <br />On GitHub, the HTML representation is unable to render, please try loading this page with nbviewer.org.</b></div><div class=\"sk-container\" hidden><div class=\"sk-item\"><div class=\"sk-estimator sk-toggleable\"><input class=\"sk-toggleable__control sk-hidden--visually\" id=\"sk-estimator-id-2\" type=\"checkbox\" checked><label for=\"sk-estimator-id-2\" class=\"sk-toggleable__label sk-toggleable__label-arrow\">LogisticRegression</label><div class=\"sk-toggleable__content\"><pre>LogisticRegression(max_iter=1000000)</pre></div></div></div></div></div>"
            ]
          },
          "metadata": {},
          "execution_count": 83
        }
      ]
    },
    {
      "cell_type": "markdown",
      "source": [
        "#### Resultados"
      ],
      "metadata": {
        "id": "CUh5HsYhNwJE"
      }
    },
    {
      "cell_type": "code",
      "source": [
        "y_pred_w2v = clf_w2v.predict(X_test_w2v)\n",
        "conf_matrix_w2v = confusion_matrix(y_test_w2v, y_pred_w2v)\n",
        "print(\"Matriz de confusión utilizando Word2Vect\")\n",
        "print(conf_matrix_w2v)\n",
        "\n",
        "y_pred_ft = clf_ft.predict(X_test_ft)\n",
        "conf_matrix_ft = confusion_matrix(y_test_ft, y_pred_ft)\n",
        "print(\"\\nMatriz de confusión utilizando FastText\")\n",
        "print(conf_matrix_ft)"
      ],
      "metadata": {
        "colab": {
          "base_uri": "https://localhost:8080/"
        },
        "id": "MnR81Xxz7l-w",
        "outputId": "c143e928-17be-40f6-e5fe-4ab30401df13"
      },
      "execution_count": null,
      "outputs": [
        {
          "output_type": "stream",
          "name": "stdout",
          "text": [
            "Matriz de confusión utilizando Word2Vect\n",
            "[[50  0]\n",
            " [36  0]]\n",
            "\n",
            "Matriz de confusión utilizando FastText\n",
            "[[215   6]\n",
            " [107  11]]\n"
          ]
        }
      ]
    },
    {
      "cell_type": "code",
      "source": [
        "print(\"Reporte de clasificación utilizando Word2Vec\")\n",
        "print(classification_report(y_test_w2v, y_pred_w2v))"
      ],
      "metadata": {
        "colab": {
          "base_uri": "https://localhost:8080/"
        },
        "id": "nDNNExBWOajB",
        "outputId": "a8e78240-9339-48a0-9a3a-517fd2ff44bd"
      },
      "execution_count": null,
      "outputs": [
        {
          "output_type": "stream",
          "name": "stdout",
          "text": [
            "Reporte de clasificación utilizando Word2Vec\n",
            "              precision    recall  f1-score   support\n",
            "\n",
            "          -1       0.58      1.00      0.74        50\n",
            "           1       0.00      0.00      0.00        36\n",
            "\n",
            "    accuracy                           0.58        86\n",
            "   macro avg       0.29      0.50      0.37        86\n",
            "weighted avg       0.34      0.58      0.43        86\n",
            "\n"
          ]
        },
        {
          "output_type": "stream",
          "name": "stderr",
          "text": [
            "/usr/local/lib/python3.10/dist-packages/sklearn/metrics/_classification.py:1344: UndefinedMetricWarning: Precision and F-score are ill-defined and being set to 0.0 in labels with no predicted samples. Use `zero_division` parameter to control this behavior.\n",
            "  _warn_prf(average, modifier, msg_start, len(result))\n",
            "/usr/local/lib/python3.10/dist-packages/sklearn/metrics/_classification.py:1344: UndefinedMetricWarning: Precision and F-score are ill-defined and being set to 0.0 in labels with no predicted samples. Use `zero_division` parameter to control this behavior.\n",
            "  _warn_prf(average, modifier, msg_start, len(result))\n",
            "/usr/local/lib/python3.10/dist-packages/sklearn/metrics/_classification.py:1344: UndefinedMetricWarning: Precision and F-score are ill-defined and being set to 0.0 in labels with no predicted samples. Use `zero_division` parameter to control this behavior.\n",
            "  _warn_prf(average, modifier, msg_start, len(result))\n"
          ]
        }
      ]
    },
    {
      "cell_type": "code",
      "source": [
        "print(\"Reporte de clasificación utilizando FastText\")\n",
        "print(classification_report(y_test_ft, y_pred_ft))"
      ],
      "metadata": {
        "colab": {
          "base_uri": "https://localhost:8080/"
        },
        "id": "gnTrnSDI75_x",
        "outputId": "6a3af6f5-b68c-437c-e550-026b23798fb0"
      },
      "execution_count": null,
      "outputs": [
        {
          "output_type": "stream",
          "name": "stdout",
          "text": [
            "Reporte de clasificación utilizando FastText\n",
            "              precision    recall  f1-score   support\n",
            "\n",
            "          -1       0.67      0.97      0.79       221\n",
            "           1       0.65      0.09      0.16       118\n",
            "\n",
            "    accuracy                           0.67       339\n",
            "   macro avg       0.66      0.53      0.48       339\n",
            "weighted avg       0.66      0.67      0.57       339\n",
            "\n"
          ]
        }
      ]
    },
    {
      "cell_type": "markdown",
      "metadata": {
        "id": "hJMzq_dETNct"
      },
      "source": [
        "**Respuesta**:\n",
        "\n",
        "(i) **¿Por qué se obtienen estos resultados?**\n",
        "\n",
        "Los resultados obtenidos en general no son buenos, sobre todo para la clase _positiva_ (en especial en el caso de Word2Vec). Esto puede deberse a diversas causas, tales como:\n",
        "\n",
        "* El corpus de los simpsons no es capaz de capturar el caso-uso de las \n",
        "palabras, debido a que el género de la serie y tipo de lenguaje utilizado en ella\n",
        "no logra capturar la diversidad de uso de todas las palabras del idioma.\n",
        "* Las dimensiones de los _embeddings_ (i.e. 200) podrían no son suficientes, requiriéndose en ese caso capturar estructuras más complejas que requieren mayor número\n",
        "de dimensiones.\n",
        "* Simplemente el corpus no es lo suficientemente vasto o variado para entrenar _embeddings_ que\n",
        "sean de buena calidad (i.e. capturen el uso de las palabras).\n",
        "* En específico, los malos resultados de _Word2Vec_ pueden deberse a un corpus de entrenamiento demasiado pequeño, ya que gran parte de los documentos de sentimiento debió eliminarse debido a que no se encontró representaciones de sus palabras en los embeddings creados.\n",
        "\n",
        "(ii) **¿Cómo los mejorarías?**\n",
        "\n",
        "Los resultados se pueden mejorar encontrando nuevos\n",
        "features asociados a las palabras, o mejorando la calidad de estos.\n",
        "\n",
        "* Se puede mejorar la calidad de los _embeddings_ utilizados pre entrenándolos\n",
        "sobre un corpus de mayor tamaño que capture mejor la semántica y diversidad\n",
        "del uso de las palabras.\n",
        "* Se puede mejorar aumentando la cantidad de dimensiones de los _embeddings_\n",
        "y obteniendo representaciones de mayor complejidad que capturen dinámicas\n",
        "y casos de uso de las palabras de mejor forma.\n",
        "* Se pueden obtener _features_ adicinales de formas clásicas, como la\n",
        "cantidad de frecuencias que las palabras a clasificar aparecen sobre textos considerados \"negativos\" o \"positivos\"."
      ]
    },
    {
      "cell_type": "markdown",
      "metadata": {
        "id": "izppruGQTNct"
      },
      "source": [
        "# Bonus: +0.25 puntos en cualquier pregunta"
      ]
    },
    {
      "cell_type": "markdown",
      "metadata": {
        "id": "YW0aeK2KTNct"
      },
      "source": [
        "**Pregunta 1**: Replicar la parte anterior utilizando embeddings pre-entrenados en un dataset más grande y obtener mejores resultados. Les puede servir [ésta](https://radimrehurek.com/gensim/downloader.html#module-gensim.downloader) documentacion de gensim **(0.25 puntos)**."
      ]
    },
    {
      "cell_type": "markdown",
      "metadata": {
        "id": "qvHcVS3sTNct"
      },
      "source": [
        "**Respuesta**:\n",
        "\n",
        "Se repite el mismo ejercicio anterior pero utilizando _embeddings_ pre-entrenados con el algoritmo [GloVe](https://nlp.stanford.edu/pubs/glove.pdf).\n",
        "\n"
      ]
    },
    {
      "cell_type": "markdown",
      "source": [
        "Global Vector for Word Representation (aka GloVe) es un algoritmo no-supervisado\n",
        "entrenado en estadísticas de co-ocurrencias de palabra-a-palabra dentro del contexto global de un corpus.\n",
        "\n",
        "La idea de este algoritmo no-supervisado es que se entrena sobre distintos\n",
        "corpus de texto para encontrar representaciones de palabras que luego\n",
        "pueden ser utilizadsa para otras tareas, como la de este laboratorio de\n",
        "clasificar la polaridad de las palabras."
      ],
      "metadata": {
        "id": "JLbsXSBLQ6Wf"
      }
    },
    {
      "cell_type": "markdown",
      "source": [
        "Creamos una función para descargar y cargar _embeddings_ pre-entrenados\n",
        "basados en GloVe, es posible descargar distintas versiones que dependen sobre\n",
        "el corpus que fueron entrenadas dichas representaciones o _embeddings_:"
      ],
      "metadata": {
        "id": "CegQD8vYRcwe"
      }
    },
    {
      "cell_type": "code",
      "metadata": {
        "id": "MSc8p-T8TNcu"
      },
      "source": [
        "def load_glove_model(from_corpus=\"glove-wiki-gigaword-300\"):\n",
        "  \"\"\" Descarga y carga vectores pre-entrenados Glove.\n",
        "\n",
        "      Retorna 400k de embeddings, cada uno de dimensión 200.\n",
        "  \"\"\"\n",
        "  import gensim.downloader as api\n",
        "  wv_from_bin = api.load(from_corpus)\n",
        "  print(\"Tamaño del vocabulario %i\" % len(list(wv_from_bin.index_to_key)))\n",
        "  return wv_from_bin"
      ],
      "execution_count": null,
      "outputs": []
    },
    {
      "cell_type": "markdown",
      "source": [
        "Se puede descomentar el siguiente bloque de código para ver distintas\n",
        "versiones de _embeddings_ pre-entrenados."
      ],
      "metadata": {
        "id": "b4xe28fXRn4d"
      }
    },
    {
      "cell_type": "code",
      "source": [
        "print(\"Embedding pre-entrenados disponibles para descargar:\\n\")\n",
        "#import gensim.downloader as api\n",
        "#api.info()"
      ],
      "metadata": {
        "colab": {
          "base_uri": "https://localhost:8080/"
        },
        "id": "nNIvv_DgPHan",
        "outputId": "70b89565-481b-43db-bd5e-ef8b5415f89c"
      },
      "execution_count": null,
      "outputs": [
        {
          "output_type": "stream",
          "name": "stdout",
          "text": [
            "Embedding pre-entrenados disponibles para descargar:\n",
            "\n"
          ]
        }
      ]
    },
    {
      "cell_type": "code",
      "source": [
        "%%time\n",
        "# ------ esta celda se demora - descarga 256/376.1 MB con los embeddings pre-entrenados de GloVe ------\n",
        "wv_from_glove = load_glove_model()"
      ],
      "metadata": {
        "colab": {
          "base_uri": "https://localhost:8080/"
        },
        "id": "tvEVPGl895sC",
        "outputId": "e08308ed-e3e9-4f04-b8b3-de9d7687010b"
      },
      "execution_count": null,
      "outputs": [
        {
          "output_type": "stream",
          "name": "stdout",
          "text": [
            "[==================================================] 100.0% 376.1/376.1MB downloaded\n",
            "Tamaño del vocabulario 400000\n"
          ]
        }
      ]
    },
    {
      "cell_type": "code",
      "source": [
        "ex_emb = wv_from_glove.get_vector('skate')\n",
        "print(f\"Verificar dimensión del embedding: {ex_emb.shape}\")\n",
        "assert ex_emb.shape[0] == 300"
      ],
      "metadata": {
        "colab": {
          "base_uri": "https://localhost:8080/"
        },
        "id": "kjz60odU9-vg",
        "outputId": "e58d909f-a738-4816-c53e-3300bdd8f770"
      },
      "execution_count": null,
      "outputs": [
        {
          "output_type": "stream",
          "name": "stdout",
          "text": [
            "Verificar dimensión del embedding: (300,)\n"
          ]
        }
      ]
    },
    {
      "cell_type": "markdown",
      "source": [
        "Ocuparemos la misma estrategia de la sección anterior\n",
        "para filtrar del corpus de palabras las que no\n",
        "cuenten con una representación dentro de los _embeddings_\n",
        "GloVe pre-entrenados."
      ],
      "metadata": {
        "id": "R3cPShFqRy6f"
      }
    },
    {
      "cell_type": "code",
      "source": [
        "mask = df_afinn[0].apply(lambda x: try_apply(wv_from_glove, x))\n",
        "df_afinn_filter = df_afinn[mask]\n",
        "df_afinn_filter.shape"
      ],
      "metadata": {
        "colab": {
          "base_uri": "https://localhost:8080/"
        },
        "id": "R4wmNNeDHsbi",
        "outputId": "0a195672-71f1-49ac-bc46-f05eaf62aef7"
      },
      "execution_count": null,
      "outputs": [
        {
          "output_type": "execute_result",
          "data": {
            "text/plain": [
              "(3225, 2)"
            ]
          },
          "metadata": {},
          "execution_count": 91
        }
      ]
    },
    {
      "cell_type": "markdown",
      "source": [
        "Ahora obtenemos la _feature matrix_ con los _embeddings_ pre-entrenados de GloVe."
      ],
      "metadata": {
        "id": "Rda_hddYALjX"
      }
    },
    {
      "cell_type": "code",
      "source": [
        "X_glove, y_glove = (\n",
        "    pd.DataFrame(\n",
        "        df_afinn_filter[0].apply(\n",
        "            lambda x: wv_from_glove.get_vector(x)\n",
        "        ).apply(pd.Series)\n",
        "    ),\n",
        "    df_afinn_filter[1]\n",
        ")"
      ],
      "metadata": {
        "id": "8WAbQi2u_xuO"
      },
      "execution_count": null,
      "outputs": []
    },
    {
      "cell_type": "code",
      "source": [
        "print(X_glove.shape, y_glove.shape)"
      ],
      "metadata": {
        "colab": {
          "base_uri": "https://localhost:8080/"
        },
        "id": "SVK89CJfQbUO",
        "outputId": "c8a0e96b-892c-4f5d-bf5c-fc41850460af"
      },
      "execution_count": null,
      "outputs": [
        {
          "output_type": "stream",
          "name": "stdout",
          "text": [
            "(3225, 300) (3225,)\n"
          ]
        }
      ]
    },
    {
      "cell_type": "markdown",
      "source": [
        "De manera similar al ejercicio anterior, separamos los datos en conjunto\n",
        "de entrenamiento y prueba:"
      ],
      "metadata": {
        "id": "WH6VCs3NYiKL"
      }
    },
    {
      "cell_type": "code",
      "source": [
        "X_train_glove, X_test_glove, y_train_glove, y_test_glove = train_test_split(\n",
        "    X_glove, y_glove, random_state=0, test_size=0.1, stratify=y_glove\n",
        ")"
      ],
      "metadata": {
        "id": "O6qLzRXlHi3s"
      },
      "execution_count": null,
      "outputs": []
    },
    {
      "cell_type": "markdown",
      "source": [
        "Entrenamos una regresión logistica sobre los datos utilizando la misma configuración del ejercicio anterior."
      ],
      "metadata": {
        "id": "SZLYv2rQYnaX"
      }
    },
    {
      "cell_type": "code",
      "source": [
        "clf_glove = LogisticRegression(max_iter=int(1e6))\n",
        "clf_glove.fit(X_train_glove, y_train_glove)"
      ],
      "metadata": {
        "colab": {
          "base_uri": "https://localhost:8080/",
          "height": 75
        },
        "id": "I78nGalbLns2",
        "outputId": "172f8b64-c505-4bb9-8018-4102e7b1b68c"
      },
      "execution_count": null,
      "outputs": [
        {
          "output_type": "execute_result",
          "data": {
            "text/plain": [
              "LogisticRegression(max_iter=1000000)"
            ],
            "text/html": [
              "<style>#sk-container-id-3 {color: black;background-color: white;}#sk-container-id-3 pre{padding: 0;}#sk-container-id-3 div.sk-toggleable {background-color: white;}#sk-container-id-3 label.sk-toggleable__label {cursor: pointer;display: block;width: 100%;margin-bottom: 0;padding: 0.3em;box-sizing: border-box;text-align: center;}#sk-container-id-3 label.sk-toggleable__label-arrow:before {content: \"▸\";float: left;margin-right: 0.25em;color: #696969;}#sk-container-id-3 label.sk-toggleable__label-arrow:hover:before {color: black;}#sk-container-id-3 div.sk-estimator:hover label.sk-toggleable__label-arrow:before {color: black;}#sk-container-id-3 div.sk-toggleable__content {max-height: 0;max-width: 0;overflow: hidden;text-align: left;background-color: #f0f8ff;}#sk-container-id-3 div.sk-toggleable__content pre {margin: 0.2em;color: black;border-radius: 0.25em;background-color: #f0f8ff;}#sk-container-id-3 input.sk-toggleable__control:checked~div.sk-toggleable__content {max-height: 200px;max-width: 100%;overflow: auto;}#sk-container-id-3 input.sk-toggleable__control:checked~label.sk-toggleable__label-arrow:before {content: \"▾\";}#sk-container-id-3 div.sk-estimator input.sk-toggleable__control:checked~label.sk-toggleable__label {background-color: #d4ebff;}#sk-container-id-3 div.sk-label input.sk-toggleable__control:checked~label.sk-toggleable__label {background-color: #d4ebff;}#sk-container-id-3 input.sk-hidden--visually {border: 0;clip: rect(1px 1px 1px 1px);clip: rect(1px, 1px, 1px, 1px);height: 1px;margin: -1px;overflow: hidden;padding: 0;position: absolute;width: 1px;}#sk-container-id-3 div.sk-estimator {font-family: monospace;background-color: #f0f8ff;border: 1px dotted black;border-radius: 0.25em;box-sizing: border-box;margin-bottom: 0.5em;}#sk-container-id-3 div.sk-estimator:hover {background-color: #d4ebff;}#sk-container-id-3 div.sk-parallel-item::after {content: \"\";width: 100%;border-bottom: 1px solid gray;flex-grow: 1;}#sk-container-id-3 div.sk-label:hover label.sk-toggleable__label {background-color: #d4ebff;}#sk-container-id-3 div.sk-serial::before {content: \"\";position: absolute;border-left: 1px solid gray;box-sizing: border-box;top: 0;bottom: 0;left: 50%;z-index: 0;}#sk-container-id-3 div.sk-serial {display: flex;flex-direction: column;align-items: center;background-color: white;padding-right: 0.2em;padding-left: 0.2em;position: relative;}#sk-container-id-3 div.sk-item {position: relative;z-index: 1;}#sk-container-id-3 div.sk-parallel {display: flex;align-items: stretch;justify-content: center;background-color: white;position: relative;}#sk-container-id-3 div.sk-item::before, #sk-container-id-3 div.sk-parallel-item::before {content: \"\";position: absolute;border-left: 1px solid gray;box-sizing: border-box;top: 0;bottom: 0;left: 50%;z-index: -1;}#sk-container-id-3 div.sk-parallel-item {display: flex;flex-direction: column;z-index: 1;position: relative;background-color: white;}#sk-container-id-3 div.sk-parallel-item:first-child::after {align-self: flex-end;width: 50%;}#sk-container-id-3 div.sk-parallel-item:last-child::after {align-self: flex-start;width: 50%;}#sk-container-id-3 div.sk-parallel-item:only-child::after {width: 0;}#sk-container-id-3 div.sk-dashed-wrapped {border: 1px dashed gray;margin: 0 0.4em 0.5em 0.4em;box-sizing: border-box;padding-bottom: 0.4em;background-color: white;}#sk-container-id-3 div.sk-label label {font-family: monospace;font-weight: bold;display: inline-block;line-height: 1.2em;}#sk-container-id-3 div.sk-label-container {text-align: center;}#sk-container-id-3 div.sk-container {/* jupyter's `normalize.less` sets `[hidden] { display: none; }` but bootstrap.min.css set `[hidden] { display: none !important; }` so we also need the `!important` here to be able to override the default hidden behavior on the sphinx rendered scikit-learn.org. See: https://github.com/scikit-learn/scikit-learn/issues/21755 */display: inline-block !important;position: relative;}#sk-container-id-3 div.sk-text-repr-fallback {display: none;}</style><div id=\"sk-container-id-3\" class=\"sk-top-container\"><div class=\"sk-text-repr-fallback\"><pre>LogisticRegression(max_iter=1000000)</pre><b>In a Jupyter environment, please rerun this cell to show the HTML representation or trust the notebook. <br />On GitHub, the HTML representation is unable to render, please try loading this page with nbviewer.org.</b></div><div class=\"sk-container\" hidden><div class=\"sk-item\"><div class=\"sk-estimator sk-toggleable\"><input class=\"sk-toggleable__control sk-hidden--visually\" id=\"sk-estimator-id-3\" type=\"checkbox\" checked><label for=\"sk-estimator-id-3\" class=\"sk-toggleable__label sk-toggleable__label-arrow\">LogisticRegression</label><div class=\"sk-toggleable__content\"><pre>LogisticRegression(max_iter=1000000)</pre></div></div></div></div></div>"
            ]
          },
          "metadata": {},
          "execution_count": 95
        }
      ]
    },
    {
      "cell_type": "markdown",
      "source": [
        "Computamos las predicciones del modelo sobre el conjunto\n",
        "de pruebas y calculamos las métricas."
      ],
      "metadata": {
        "id": "9opcYALEYrPS"
      }
    },
    {
      "cell_type": "code",
      "source": [
        "print(\"Matriz de confusión para GloVe\")\n",
        "y_pred_glove = clf_glove.predict(X_test_glove)\n",
        "conf_matrix = confusion_matrix(y_test_glove, y_pred_glove)\n",
        "print(conf_matrix)"
      ],
      "metadata": {
        "colab": {
          "base_uri": "https://localhost:8080/"
        },
        "id": "5nNkj67qL53g",
        "outputId": "3c98ca8d-a218-4ddf-c205-dd90d92639ac"
      },
      "execution_count": null,
      "outputs": [
        {
          "output_type": "stream",
          "name": "stdout",
          "text": [
            "Matriz de confusión para GloVe\n",
            "[[198  13]\n",
            " [ 15  97]]\n"
          ]
        }
      ]
    },
    {
      "cell_type": "code",
      "source": [
        "print(\"Reporte de clasificación para GloVe\")\n",
        "print(classification_report(y_test_glove, y_pred_glove))"
      ],
      "metadata": {
        "colab": {
          "base_uri": "https://localhost:8080/"
        },
        "id": "j2CKhr44MOh3",
        "outputId": "2dbd9819-62c2-4952-de45-163c4254f623"
      },
      "execution_count": null,
      "outputs": [
        {
          "output_type": "stream",
          "name": "stdout",
          "text": [
            "Reporte de clasificación para GloVe\n",
            "              precision    recall  f1-score   support\n",
            "\n",
            "          -1       0.93      0.94      0.93       211\n",
            "           1       0.88      0.87      0.87       112\n",
            "\n",
            "    accuracy                           0.91       323\n",
            "   macro avg       0.91      0.90      0.90       323\n",
            "weighted avg       0.91      0.91      0.91       323\n",
            "\n"
          ]
        }
      ]
    },
    {
      "cell_type": "markdown",
      "source": [
        "Dos conclusiones de este ejercicio:\n",
        "\n",
        "1. La idea poderosa de usar modelos no-supervisados entrenados para obtener representaciones complejas y de calidad que luego pueden ser\n",
        "adaptadas a otras tareas como la de clasificación. \n",
        "2. El algoritmo GloVe, y el corpus en cual fueron entrenados los\n",
        "_embeddings_ usados, fueron capaces de obtener mejores representaciones\n",
        "y con eso subir de un _accuracy_ de 0.67 usando las representaciones\n",
        "entrenadas con FastText sobre el corpus de los Simpsons, a lograr\n",
        "un _accuracy_ de 0.91 usando un corpus de mejor calidad, mayor tamaño,\n",
        "y un mejor algoritmo como GloVe vs Word2Vec."
      ],
      "metadata": {
        "id": "CujB1MvBYvVM"
      }
    },
    {
      "cell_type": "code",
      "source": [],
      "metadata": {
        "id": "i_eCabt8ZV5P"
      },
      "execution_count": null,
      "outputs": []
    }
  ]
}